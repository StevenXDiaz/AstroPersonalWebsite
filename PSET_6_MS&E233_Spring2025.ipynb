{
  "nbformat": 4,
  "nbformat_minor": 0,
  "metadata": {
    "colab": {
      "provenance": [],
      "include_colab_link": true
    },
    "kernelspec": {
      "name": "python3",
      "display_name": "Python 3"
    },
    "language_info": {
      "name": "python"
    }
  },
  "cells": [
    {
      "cell_type": "markdown",
      "metadata": {
        "id": "view-in-github",
        "colab_type": "text"
      },
      "source": [
        "<a href=\"https://colab.research.google.com/github/StevenXDiaz/AstroPersonalWebsite/blob/main/PSET_6_MS%26E233_Spring2025.ipynb\" target=\"_parent\"><img src=\"https://colab.research.google.com/assets/colab-badge.svg\" alt=\"Open In Colab\"/></a>"
      ]
    },
    {
      "cell_type": "markdown",
      "source": [
        "# MS&E 233 (Spring 2025): Homework 6 (due May 25th, 8pm)"
      ],
      "metadata": {
        "id": "ACHgol3eXUJJ"
      }
    },
    {
      "cell_type": "markdown",
      "source": [
        "# Problem 1. First and Second Price Auction with $n$ symmetric bidders."
      ],
      "metadata": {
        "id": "xkgznI3hXh_5"
      }
    },
    {
      "cell_type": "markdown",
      "source": [
        "As proved in [Lecture 9](https://raw.githubusercontent.com/stanford-msande233/spring24/master/assets/presentations/Lecture9.pdf) the Bayes Nash Equilibirium strategy for a first price auction with $n$ symmetric bidders whose values follow the distribution $v_i \\sim U[0,1]$ is:\n",
        "\\begin{align}\n",
        "s_i(v_i) = \\left( 1 - \\frac{1}{n} \\right) v_i\n",
        "\\end{align}\n",
        "More generally, one can show that for any distribution $F$, if the bidders values are all drawn independently from this distribution, then the unique symmetric equilibrium is that each bidder bids:\n",
        "\\begin{align}\n",
        "s_i(v_i) = E_{v_{-i}\\sim F^{n-1}}[\\max_{j\\neq i} v_j\\mid \\max_{j\\neq i} v_j < v_i]\n",
        "\\end{align}\n",
        "In other words, each person bids what they expect the second highest bid will be, conditional on the event that the second highest bid is below their value.\n",
        "\n",
        "We also discussed in lecture 11 how a second price auction is Dominant Strategy Incentive Compatible (DSIC) and that the equilibrium strategy was to bid your value.\n",
        "\n",
        "Below we explore the expected revenue of these two auctions under a symmetric equilibria."
      ],
      "metadata": {
        "id": "q5cvmfxcXvNo"
      }
    },
    {
      "cell_type": "markdown",
      "source": [
        "## Bonus Problem (Not Graded; can help you in better understanding equilibrium computation)\n",
        "\n",
        "You don't need to solve this problem and it wont be graded, but feel free to try it out. Verify that the following is always an equilibrium for the first price auction among symmetric bidders:\n",
        "\\begin{align}\n",
        "s_i(v_i) = E_{v_{-i}\\sim F^{n-1}}[\\max_{j\\neq i} v_j\\mid \\max_{j\\neq i} v_j < v_i]\n",
        "\\end{align}"
      ],
      "metadata": {
        "id": "uTkC8tZ15Cqg"
      }
    },
    {
      "cell_type": "markdown",
      "source": [
        "# **(Place your answer here)**"
      ],
      "metadata": {
        "id": "xL_mXWjl5QlR"
      }
    },
    {
      "cell_type": "markdown",
      "source": [
        "## Problem 1.1. Expected Revenue in First Price (FPA) and Second Price (SPA) for U[0,1]\n",
        "\n",
        "Below you will calculate the average revenue for the auctioneer across many simulations of each auction, when bidders follow their respective equilibrium strategies. In this first setting, bidders have values distributed $U[0,1]$. So you can use the simple equilibrium characterization."
      ],
      "metadata": {
        "id": "nEDiHKNyko1w"
      }
    },
    {
      "cell_type": "code",
      "source": [
        "import numpy as np\n",
        "\n",
        "def simulate_auctions_uniform(n_samples, n_bidders):\n",
        "    ''' (0.5 points)\n",
        "    n_samples: number of simulations\n",
        "    n_bidders: number of bidders\n",
        "    '''\n",
        "    # generate valuation profiles for each auction simulation and for\n",
        "    # each bidder within the simulation\n",
        "    values = np.random.uniform(0, 1, size=(n_samples, n_bidders))\n",
        "    # calculate the bids for each bidder in a FPA based on their values\n",
        "    fpa_bids = (n_bidders - 1) / n_bidders * values\n",
        "\n",
        "    # calculate the bids for each bidder in a FPA based on their values\n",
        "    spa_bids = values\n",
        "\n",
        "    # based on the FPA bids, calculate the revenue of each auction simulation\n",
        "    # and the average revenue across auction simulations\n",
        "    fpaRev = np.mean(np.max(fpa_bids, axis=1))\n",
        "\n",
        "    # similarly for the SPA auction\n",
        "    spaRev = np.mean(np.sort(spa_bids, axis=1)[:, -2])\n",
        "\n",
        "    return fpaRev, spaRev"
      ],
      "metadata": {
        "id": "483WOk5Ub1Z-"
      },
      "execution_count": 1,
      "outputs": []
    },
    {
      "cell_type": "code",
      "source": [
        "# Perform simulation\n",
        "np.random.seed(123)\n",
        "n_samples = 10000\n",
        "n_bidders = 5\n",
        "fpaRev, spaRev = simulate_auctions_uniform(n_samples, n_bidders)\n",
        "\n",
        "print(f\"Expected revenue for first price auction: {fpaRev:.3f}\")\n",
        "print(f\"Expected revenue for second price auction: {spaRev:.3f}\")"
      ],
      "metadata": {
        "id": "347RwGBrV2Lw",
        "colab": {
          "base_uri": "https://localhost:8080/"
        },
        "outputId": "5a54119a-dee0-4913-ae65-8e4a91ef3790"
      },
      "execution_count": 2,
      "outputs": [
        {
          "output_type": "stream",
          "name": "stdout",
          "text": [
            "Expected revenue for first price auction: 0.667\n",
            "Expected revenue for second price auction: 0.668\n"
          ]
        }
      ]
    },
    {
      "cell_type": "markdown",
      "source": [
        "**Expected results.** You should be getting answers, approximately:\n",
        "```\n",
        "Expected revenue for first price auction: 0.667\n",
        "Expected revenue for second price auction: 0.668\n",
        "```"
      ],
      "metadata": {
        "id": "ghRFPKOq83Uj"
      }
    },
    {
      "cell_type": "markdown",
      "source": [
        "## Problem 1.2 Expected Revenue in First Price (FPA) and Second Price (SPA) for General F\n",
        "\n",
        "We will now calculate revenues in the general case. In this case, we need to calculate the equilibrium strategy under an FPA, i.e.\n",
        "\\begin{align}\n",
        "s_i(v_i) = E_{v_{-i}\\sim F^{n-1}}[\\max_{j\\neq i} v_j\\mid \\max_{j\\neq i} v_j < v_i]\n",
        "\\end{align}\n",
        "For every value $v_i$, we will use the Bayes-rule to write:\n",
        "\\begin{align}\n",
        "s_i(v_i) = \\frac{E_{v_{-i}\\sim F^{n-1}}[\\max_{j\\neq i} v_j \\cdot {\\bf 1}\\{\\max_{j\\neq i} v_j < v_i\\}]}{\\Pr_{v_{-i}\\sim F^{n-1}}(\\max_{j\\neq i} v_j < v_i)}\n",
        "\\end{align}\n",
        "Then we will approximate the numerator and denominator by drawing $m$ samples of opponent values and calculating the empirical versions these expectations and probabilities, i.e.\n",
        "\\begin{align}\n",
        "s_i(v_i) = \\frac{\\frac{1}{m}\\sum_{t=1}^m  \\max_{j\\neq i} v_j^t \\cdot {\\bf 1}\\{\\max_{j\\neq i} v_j^t < v_i\\}}{\\frac{1}{m}\\sum_{t=1}^m {\\bf 1}\\{\\max_{j\\neq i} v_j^t < v_i\\}}\n",
        "\\end{align}\n",
        "where each $v_j^t$ is drawn independently form $F$.\n",
        "\n",
        "As an example, we will use as $F$, the chi-squared distribution $\\chi^2(1)$, i.e. the square of a normal distribution."
      ],
      "metadata": {
        "id": "T-sF6Tp957l6"
      }
    },
    {
      "cell_type": "code",
      "source": [
        "import numpy as np\n",
        "\n",
        "def gen_values(n_samples, n_bidders):\n",
        "    return np.random.normal(0, 1, size=(n_samples, n_bidders))**2\n",
        "\n",
        "def fpa_strategy(v, n_bidders):\n",
        "    '''(1.0 points)'''\n",
        "    other_values = gen_values(1000000, n_bidders - 1)\n",
        "\n",
        "    max_other_value = np.max(other_values, axis=1)\n",
        "\n",
        "    prob_win = np.mean(max_other_value < v)\n",
        "\n",
        "    if prob_win == 0:\n",
        "        return 0\n",
        "\n",
        "    return np.sum(max_other_value[max_other_value < v]) / (1000000 * prob_win)\n",
        "\n",
        "\n",
        "def fpa_strategy_on_grid(vgrid, n_bidders):\n",
        "    return np.array([fpa_strategy(v, n_bidders) for v in vgrid])"
      ],
      "metadata": {
        "id": "v1EXA9tP1smL"
      },
      "execution_count": 5,
      "outputs": []
    },
    {
      "cell_type": "markdown",
      "source": [
        "We will now plot the bid of a player as a function of their value on a grid of values in the interval [0, 20]"
      ],
      "metadata": {
        "id": "l_3E-KXy7hCg"
      }
    },
    {
      "cell_type": "code",
      "source": [
        "import matplotlib.pyplot as plt\n",
        "np.random.seed(123)\n",
        "vgrid = np.linspace(0, 20, 100)\n",
        "fpa_strategies_grid = fpa_strategy_on_grid(vgrid, 5)\n",
        "plt.plot(vgrid, fpa_strategies_grid)\n",
        "plt.xlabel('Player Value')\n",
        "plt.ylabel('Bid')\n",
        "plt.show()"
      ],
      "metadata": {
        "colab": {
          "base_uri": "https://localhost:8080/",
          "height": 449
        },
        "id": "VxHnK9um1tSH",
        "outputId": "21ffdf46-6b7c-48dd-e4db-d9b11527e66e"
      },
      "execution_count": 6,
      "outputs": [
        {
          "output_type": "display_data",
          "data": {
            "text/plain": [
              "<Figure size 640x480 with 1 Axes>"
            ],
            "image/png": "[encoded data removed]"
          },
          "metadata": {}
        }
      ]
    },
    {
      "cell_type": "markdown",
      "source": [
        "**Expected results.** You should be getting an image like this:\n",
        "\n",
        "![image.png](data:image/png;base64,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)"
      ],
      "metadata": {
        "id": "BMoTzmf989jS"
      }
    },
    {
      "cell_type": "markdown",
      "source": [
        "We will now simulate the two auctions many times and calculate the average revenues. For the first price auction, to expedite calculation of the equilibrium bids across all samples, we will first calculate the equilibrium bid for a grid of values in the interval $[0,20]$. Then for any value of a bidder, we will find the closest bid in the grid and return the corresponding pre-calculated bid for that grid point."
      ],
      "metadata": {
        "id": "bnY9NWNx78_4"
      }
    },
    {
      "cell_type": "code",
      "source": [
        "def simulate_auctions_general_F(n_samples, n_bidders):\n",
        "    '''(1.0 points)'''\n",
        "    values = gen_values(n_samples, n_bidders)\n",
        "\n",
        "    # calculate the equilibrium bids in FPA for a grid of values\n",
        "    vgrid = np.linspace(0, 20, 100)\n",
        "    fpa_strategies_grid = fpa_strategy_on_grid(vgrid, n_bidders)\n",
        "\n",
        "    # bids of players in FPA\n",
        "    fpa_bids = np.zeros((n_samples, n_bidders))\n",
        "    for i in range(n_bidders):\n",
        "        # for each auction simulation t, find the index of the value\n",
        "        # in vgrid that is closest to bidder i's value at simulation t.\n",
        "        dists = np.abs(values[:, i, None] - vgrid[None, :])\n",
        "\n",
        "        closest_ind = np.argmin(dists, axis=1)\n",
        "        # for each auction simulation t, set as bidder i's bid the FPA\n",
        "        # equilibrim bid that corresponds to that closest grid point\n",
        "        fpa_bids[:, i] = fpa_strategies_grid[closest_ind]\n",
        "\n",
        "    # bids of players in SPA\n",
        "    spa_bids = values\n",
        "\n",
        "    # based on the FPA bids, calculate the revenue of each auction simulation\n",
        "    # and the average revenue across auction simulations\n",
        "    fpaRev = np.mean(np.max(fpa_bids, axis=1))\n",
        "\n",
        "    # similarly for the SPA auction]\n",
        "    spaRev = np.mean(np.sort(spa_bids, axis=1)[:, -2])\n",
        "\n",
        "    return fpaRev, spaRev"
      ],
      "metadata": {
        "id": "NHZoB7ue2_8w"
      },
      "execution_count": 9,
      "outputs": []
    },
    {
      "cell_type": "code",
      "source": [
        "np.random.seed(123)\n",
        "n_bidders = 5\n",
        "n_samples = 1000000\n",
        "fpaRev, spaRev = simulate_auctions_general_F(n_samples, n_bidders)\n",
        "\n",
        "print(f\"Expected revenue for first price auction: {fpaRev:.3f}\")\n",
        "print(f\"Expected revenue for second price auction: {spaRev:.3f}\")"
      ],
      "metadata": {
        "colab": {
          "base_uri": "https://localhost:8080/"
        },
        "id": "n3cZfzI53MUf",
        "outputId": "a3ba187b-f2e5-4c2b-a29b-69c5dc64749a"
      },
      "execution_count": 10,
      "outputs": [
        {
          "output_type": "stream",
          "name": "stdout",
          "text": [
            "Expected revenue for first price auction: 1.256\n",
            "Expected revenue for second price auction: 1.257\n"
          ]
        }
      ]
    },
    {
      "cell_type": "markdown",
      "source": [
        "**Expected results.** You should be getting values, approximately\n",
        "```\n",
        "Expected revenue for first price auction: 1.256\n",
        "Expected revenue for second price auction: 1.257\n",
        "```"
      ],
      "metadata": {
        "id": "FaXKtZkr9ENY"
      }
    },
    {
      "cell_type": "markdown",
      "source": [
        "## Problem 1.3. Analysis of experiment\n",
        "Comment on the average revenue from each auction, in particular describe the differences/similarities between the two and why this is the case. (0.5 points)"
      ],
      "metadata": {
        "id": "8cGV5EZflVXv"
      }
    },
    {
      "cell_type": "markdown",
      "source": [
        "# **(Put Answer Here)**\n",
        "\n",
        "Because of Revenue Equivalence Theorem, the average revenues from each auction are about the same. The ways that the different bidders act is a bit different in the two experiments anyways, but the conditions for the above stated theorem are met, so these results make sense."
      ],
      "metadata": {
        "id": "EXnje7c6lmos"
      }
    },
    {
      "cell_type": "markdown",
      "source": [
        "# Problem 2. Optimal and Approximately Optimal Auctions\n",
        "\n",
        "In this problem we'll be exploring the revenue of Myerson's optimal auction, as well as the revenue of approximately optimal auctions that should be competing with Myerson's auction, such as the second price auction with personalized and non-personalized reserve prices.\n",
        "\n",
        "We will consider a setting with two bidders. Bidder 1 has values distributed as $v_1\\sim U[0, 15]$ and bidder 2 has values distributed as $v_2\\sim U[0, 20]$.\n",
        "\n",
        "\n",
        "\n",
        "\n"
      ],
      "metadata": {
        "id": "1zfcpS5HmL9R"
      }
    },
    {
      "cell_type": "markdown",
      "source": [
        "## Problem 2.1. Characterize Myerson's Optimal Auction\n",
        "\n",
        "In Lecture 11 we began describing the virtual values and in Leture 12, we examined Myerson's optimal auction. If a player's value $v_i \\sim F_i$ where $F_i$ is the cummulative density function and $f_i$ is the probability density function of the distribution of the bidder's value.\n",
        "\\begin{align}\n",
        "\\phi_i(v_i) = v_i - \\frac{1-F_i(v_i)}{f_i(v_i)}\n",
        "\\end{align}.\n",
        "\n",
        "\n",
        "Below calculate $\\phi_1(v)$ and $\\phi_2(v)$ for each bidder and determine the Myerson optimal auction rules for Myerson's optimal auction, similar to the slides 38-44 of [Lecture 12](https://raw.githubusercontent.com/stanford-msande233/spring24/master/assets/presentations/Lecture12.pdf).\n",
        "\n",
        "(1 point)"
      ],
      "metadata": {
        "id": "CTGm8Q3e_J4q"
      }
    },
    {
      "cell_type": "markdown",
      "source": [
        "# **(Put your answer here)**\n",
        "\n",
        "Given bidder distributions and properties of uniform distributions, we know\n",
        "\n",
        "phi(v_1) = v_1 - (1 - F_1(v_1))/(f_1(v_1)) = v_1 - (15 - v_1) = 2v_1 - 15\n",
        "\n",
        "and therefore\n",
        "\n",
        "phi(v_2) = v_2 - (20 - v_2) = 2v_2 - 20"
      ],
      "metadata": {
        "id": "gtvAy7lU_j3y"
      }
    },
    {
      "cell_type": "markdown",
      "source": [
        "## Problem 2.2 Implement Myerson's Optimal Auction\n",
        "\n",
        "Now implemene the auction rules and calculate the expected revenue by simulating many auctions."
      ],
      "metadata": {
        "id": "zzjBXlNE_zzj"
      }
    },
    {
      "cell_type": "code",
      "source": [
        "def simulate_myerson(n_samples):\n",
        "    ''' (1.0 points)\n",
        "    n_samples: number of simulations of the auction\n",
        "    '''\n",
        "    rev = 0\n",
        "    v1 = np.random.uniform(0, 15, size=n_samples)\n",
        "    v2 = np.random.uniform(0, 20, size=n_samples)\n",
        "\n",
        "    for t in range(n_samples):\n",
        "        # Implement the Myerson auction rules using values v1[t], v2[t],\n",
        "        # based on your characterization in Prolbem 2.1\n",
        "        # i.e. implement each case scenario and increment the value rev by the\n",
        "        # revenue in the t-th simulation of the auction.\n",
        "\n",
        "        phi_1 = 2 * v1[t] - 15\n",
        "        phi_2 = 2 * v2[t] - 20\n",
        "\n",
        "        if phi_1 < 0 and phi_2 < 0:\n",
        "          continue\n",
        "        elif phi_1 >= phi_2 and phi_1 >= 0:\n",
        "          if phi_2 >= 0:\n",
        "            price = max(v2[t] - 2.5, 7.5)\n",
        "          else: price = 7.5\n",
        "        elif phi_2 > phi_1 and phi_2 >= 0:\n",
        "          if phi_1 >= 0:\n",
        "            price = max(v1[t] + 2.5, 10)\n",
        "          else: price = 10\n",
        "\n",
        "        rev += price\n",
        "\n",
        "\n",
        "    rev = rev / n_samples\n",
        "    return rev"
      ],
      "metadata": {
        "id": "X3KwYaUzAAQ9"
      },
      "execution_count": 30,
      "outputs": []
    },
    {
      "cell_type": "code",
      "source": [
        "np.random.seed(123)\n",
        "\n",
        "rev = simulate_myerson(10000)\n",
        "print(f'Optimal Revenue={rev:.3f}')"
      ],
      "metadata": {
        "colab": {
          "base_uri": "https://localhost:8080/"
        },
        "id": "cRdsDP-PAHpO",
        "outputId": "93eb1d83-036a-4488-85d7-2e73fefe7334"
      },
      "execution_count": 31,
      "outputs": [
        {
          "output_type": "stream",
          "name": "stdout",
          "text": [
            "Optimal Revenue=7.366\n"
          ]
        }
      ]
    },
    {
      "cell_type": "markdown",
      "source": [
        "**Expected results.** You should be getting values, approximately\n",
        "```\n",
        "Optimal Revenue=7.366\n",
        "```"
      ],
      "metadata": {
        "id": "xoM8x9o-HwFg"
      }
    },
    {
      "cell_type": "markdown",
      "source": [
        "## Problem 2.3 Implement Second-Price with Player-Specific Reserves\n",
        "\n",
        "Implement the Second Price Auction with Player-Specific Reserves, described in Slide 49 of [Lecture 12](https://raw.githubusercontent.com/stanford-msande233/spring24/master/assets/presentations/Lecture12.pdf).\n",
        "\n",
        "In particular\n",
        "1. Each bidder $i$ has a reserve price $r_i$\n",
        "2. Reject all bidders with bid below the reserve\n",
        "3. Among all bidders with value $v_i \\geq r_i$ allocate to highest bidder\n",
        "4. Charge winner max of their reserve and the next highest non-rejected bid\n",
        "\n",
        "We will implement this auction only for the special case of two bidders and arbitrary reserve prices $r_1, r_2$.\n"
      ],
      "metadata": {
        "id": "CPI0b_ZzAJnN"
      }
    },
    {
      "cell_type": "code",
      "source": [
        "def simulate_non_identical_spa_with_reserves(n_samples, r1, r2):\n",
        "    ''' (1.0 points)\n",
        "    n_samples: number of simulations of the auction\n",
        "    r1, r2: reserve prices for each bidder\n",
        "    '''\n",
        "    rev = 0\n",
        "    v1 = np.random.uniform(0, 15, size=n_samples)\n",
        "    v2 = np.random.uniform(0, 20, size=n_samples)\n",
        "\n",
        "    for t in range(n_samples):\n",
        "        # Implement the SPA with personalized reserve auction rules\n",
        "        # using values v1[t], v2[t] and increment the value rev by the revenue\n",
        "        # in the t-th simulation of the auction.\n",
        "        over_reserve_1 = v1[t] >= r1\n",
        "        over_reserve_2 = v2[t] >= r2\n",
        "\n",
        "        if not over_reserve_1 and not over_reserve_2:\n",
        "          continue\n",
        "        if over_reserve_1 and (v1[t] > v2[t] or not over_reserve_2):\n",
        "          if over_reserve_2:\n",
        "            rev += max(v2[t], r1)\n",
        "          else:\n",
        "            rev += r1\n",
        "        elif over_reserve_2:\n",
        "          if over_reserve_1:\n",
        "            rev += max(v1[t], r2)\n",
        "          else:\n",
        "            rev += r2\n",
        "\n",
        "\n",
        "    rev = rev / n_samples\n",
        "    return rev"
      ],
      "metadata": {
        "id": "AGgRkH8OA2HV"
      },
      "execution_count": 32,
      "outputs": []
    },
    {
      "cell_type": "code",
      "source": [
        "np.random.seed(123)\n",
        "\n",
        "rev = simulate_non_identical_spa_with_reserves(10000, 5, 10)\n",
        "print(f'Revenue={rev:.3f}')"
      ],
      "metadata": {
        "colab": {
          "base_uri": "https://localhost:8080/"
        },
        "id": "O40Obx0MCsHx",
        "outputId": "9e1b4eb8-4d8a-4f14-f3e0-c397e6ffbace"
      },
      "execution_count": 33,
      "outputs": [
        {
          "output_type": "stream",
          "name": "stdout",
          "text": [
            "Revenue=7.044\n"
          ]
        }
      ]
    },
    {
      "cell_type": "markdown",
      "source": [
        "**Expected results.** You should be getting values, approximately\n",
        "```\n",
        "Revenue=7.044\n",
        "```"
      ],
      "metadata": {
        "id": "KPejzDMBH3vh"
      }
    },
    {
      "cell_type": "markdown",
      "source": [
        "## Problem 2.4 Calculating the Player-Specific Reserves Implied by Prophet Inequality\n",
        "\n",
        "Recall that in slides 50-57 of [Lecture 12](https://raw.githubusercontent.com/stanford-msande233/spring24/master/assets/presentations/Lecture12.pdf), we proved that there always exist a set of personalized reserve prices that achieve revenue at least half of Myerson's optimal auction revenue. In particular, on slide 57, we gave the recipe for how to set these reserve prices.\n",
        "\n",
        "Let $\\phi_1^+(v_1)=\\max\\{0, \\phi_1(v_1)\\}$ and $\\phi_2^+(v_2)=\\max\\{0, \\phi_2(v_2)\\}$, where $\\phi_i(v_i)$ are the virtual value functions you calculated in Problem 3.1. Then we need to find a threshold $\\theta$, such that:\n",
        "\\begin{equation}\n",
        "Pr_{v_1\\sim F_1, v_2\\sim F_2}[\\max\\{\\phi_1^+(v_1), \\phi_2^+(v_2)\\} > \\theta] \\approx 1/2\n",
        "\\end{equation}\n",
        "We will find such a $\\theta$ by drawing $m$ samples $(v_1, v_2)\\sim (F_1, F_2)$ and calculating for each theta the empirical probability:\n",
        "\\begin{align}\n",
        "\\pi(\\theta) := \\frac{1}{m}\\sum_{t=1}^m {\\bf 1}\\{\\max\\{\\phi_1^+(v_1^t), \\phi_2^+(v_2^t)\\} > \\theta\\}\n",
        "\\end{align}\n",
        "Then we will do a grid-search over the values of $\\theta$ in the interval $[0, 20]$ and find a $\\theta$ such that $\\pi(\\theta)\\approx 0.5$\n",
        "\n",
        "Then we will set the reserve prices $r_1, r_2$, by finding the solutions to equations:\n",
        "\\begin{align}\n",
        "\\phi_1^+(r_1) = \\theta\\\\\n",
        "\\phi_2^+(r_2) = \\theta\n",
        "\\end{align}"
      ],
      "metadata": {
        "id": "ZXmNdL5ZBURl"
      }
    },
    {
      "cell_type": "code",
      "source": [
        "def calculate_prophet_inequality_threshold(n_samples = 10000):\n",
        "    ''' (1.0 points) '''\n",
        "    np.random.seed(123)\n",
        "    # sample n_samples draws of v1, v2\n",
        "    v1 = np.random.uniform(0, 15, size=n_samples)\n",
        "    v2 = np.random.uniform(0, 20, size=n_samples)\n",
        "\n",
        "    # calculate phi_1^+ and phi_2^+\n",
        "    phi1plus = np.maximum(2 * v1 - 15, 0)\n",
        "    phi2plus = np.maximum(2 * v2 - 20, 0)\n",
        "    phiplus = np.stack([phi1plus, phi2plus], axis=1)\n",
        "\n",
        "    for theta in np.arange(0, 20, 0.01):\n",
        "        # Calculate pi(theta), i.e. the empirical probability that\n",
        "        # max(phi_1^+, phi_2^+) lies above theta.\n",
        "        prob = np.mean(np.max(phiplus, axis=1) > theta)\n",
        "\n",
        "        if np.isclose(prob, 0.5, atol=0.01):\n",
        "            break\n",
        "\n",
        "    return theta, prob"
      ],
      "metadata": {
        "id": "OpgtbhUiBTks"
      },
      "execution_count": 39,
      "outputs": []
    },
    {
      "cell_type": "code",
      "source": [
        "theta, prob = calculate_prophet_inequality_threshold()\n",
        "print(f'theta={theta:.3f}, pi(theta)={prob:.3f}')"
      ],
      "metadata": {
        "colab": {
          "base_uri": "https://localhost:8080/"
        },
        "id": "pfFYNlyYso-3",
        "outputId": "9d1b5d97-2b5c-497a-c3ef-b21a1216826c"
      },
      "execution_count": 40,
      "outputs": [
        {
          "output_type": "stream",
          "name": "stdout",
          "text": [
            "theta=6.780, pi(theta)=0.510\n"
          ]
        }
      ]
    },
    {
      "cell_type": "markdown",
      "source": [
        "**Expected results.** You should be getting values, approximately\n",
        "```\n",
        "theta=6.780, pi(theta)=0.510\n",
        "```"
      ],
      "metadata": {
        "id": "GzDTUAxIIAVB"
      }
    },
    {
      "cell_type": "code",
      "source": [
        "def calculate_prophet_inequality_reserves(n_samples = 10000):\n",
        "    ''' (0.5 points) '''\n",
        "    theta, prob = calculate_prophet_inequality_threshold(n_samples)\n",
        "\n",
        "    # find the personalized reserve prices r1, r2 that correspond\n",
        "    # to the threshold theta\n",
        "    r1 = (theta + 15) / 2\n",
        "\n",
        "    r2 = (theta + 20) / 2\n",
        "\n",
        "    return r1, r2\n"
      ],
      "metadata": {
        "id": "VRqZGQhmDLTR"
      },
      "execution_count": 41,
      "outputs": []
    },
    {
      "cell_type": "code",
      "source": [
        "r1, r2 = calculate_prophet_inequality_reserves()\n",
        "print(f'r1={r1:.3f}, r2={r2:.3f}')"
      ],
      "metadata": {
        "colab": {
          "base_uri": "https://localhost:8080/"
        },
        "id": "q30qSP8otBKm",
        "outputId": "a8ed0038-b32f-4939-c388-bc2724dc7467"
      },
      "execution_count": 42,
      "outputs": [
        {
          "output_type": "stream",
          "name": "stdout",
          "text": [
            "r1=10.890, r2=13.390\n"
          ]
        }
      ]
    },
    {
      "cell_type": "markdown",
      "source": [
        "**Expected results.** You should be getting values, approximately\n",
        "```\n",
        "r1=10.890, r2=13.390\n",
        "```"
      ],
      "metadata": {
        "id": "9fjSzJUXIF93"
      }
    },
    {
      "cell_type": "code",
      "source": [
        "np.random.seed(123)\n",
        "\n",
        "rev = simulate_non_identical_spa_with_reserves(10000, r1, r2)\n",
        "print(f'Revenue={rev:.3f}')"
      ],
      "metadata": {
        "colab": {
          "base_uri": "https://localhost:8080/"
        },
        "id": "M4LmohJWD89y",
        "outputId": "4ddb81f9-5eed-43f6-f69c-c05aa2d572fb"
      },
      "execution_count": 43,
      "outputs": [
        {
          "output_type": "stream",
          "name": "stdout",
          "text": [
            "Revenue=6.402\n"
          ]
        }
      ]
    },
    {
      "cell_type": "markdown",
      "source": [
        "**Expected results.** You should be getting values, approximately\n",
        "```\n",
        "Revenue=6.402\n",
        "```"
      ],
      "metadata": {
        "id": "uMJRw_p0INzr"
      }
    },
    {
      "cell_type": "markdown",
      "source": [
        "Comment on whether your result verifies the approximation guarantee we proved in class. Is the revenue better than the worst-case guarantee or close to the worst-case guarantee. (0.5 points)"
      ],
      "metadata": {
        "id": "We2KLxFwECzv"
      }
    },
    {
      "cell_type": "markdown",
      "source": [
        "# **(Put your answer here)**\n",
        "\n",
        "Yes it does verify what we disucssed in class. The myerson algorithm gave a much smaller optimal revenue value than than the prophet auction, much more different than our 0.5 approximation bound states."
      ],
      "metadata": {
        "id": "O9kOkmoTEOl3"
      }
    },
    {
      "cell_type": "markdown",
      "source": [
        "## Problem 2.5 Optimize over the Personalized Reserves\n",
        "\n",
        "Now search over a grid for each of the reserve prices $r_1, r_2$ and find the value of these reserve prices, such that the SPA auction with these personalized reserves, has the highest revenue."
      ],
      "metadata": {
        "id": "Pga8HqVaE5sM"
      }
    },
    {
      "cell_type": "code",
      "source": [
        "def calculate_optimal_personalized_reserves_grid(n_samples = 10000):\n",
        "    ''' (0.5 points) '''\n",
        "    np.random.seed(123)\n",
        "\n",
        "    best_rev = 0\n",
        "    best_r1 = 0\n",
        "    best_r2 = 0\n",
        "    for r1 in np.linspace(0, 15, 20):\n",
        "        for r2 in np.linspace(0, 20, 20):\n",
        "            rev = simulate_non_identical_spa_with_reserves(n_samples, r1, r2)\n",
        "\n",
        "            if rev > best_rev:\n",
        "                best_r1, best_r2, best_rev = r1, r2, rev\n",
        "    return best_r1, best_r2, best_rev"
      ],
      "metadata": {
        "id": "qiVAiX8PFCKY"
      },
      "execution_count": 44,
      "outputs": []
    },
    {
      "cell_type": "code",
      "source": [
        "best_r1, best_r2, best_rev = calculate_optimal_personalized_reserves_grid()\n",
        "print(f'r1={best_r1:.3f}, r2={best_r2:.3f}, rev={best_rev:.3f}')"
      ],
      "metadata": {
        "colab": {
          "base_uri": "https://localhost:8080/"
        },
        "id": "eBfpRjxquLLa",
        "outputId": "2cca0f10-4951-420c-9298-fa22da7029b7"
      },
      "execution_count": 45,
      "outputs": [
        {
          "output_type": "stream",
          "name": "stdout",
          "text": [
            "r1=7.105, r2=10.526, rev=7.266\n"
          ]
        }
      ]
    },
    {
      "cell_type": "markdown",
      "source": [
        "**Expected results.** You should be getting values, approximately\n",
        "```\n",
        "r1=7.105, r2=10.526, rev=7.266\n",
        "```"
      ],
      "metadata": {
        "id": "9juBaRXdIZTH"
      }
    },
    {
      "cell_type": "markdown",
      "source": [
        "Comment how the optimal personalized reserve prices compare to the reserve prices driven by the theoretical prophet inequality result. Are they higher reserve prices or lower reserve prices. Do they achieve much higher revenue? (0.5 points)"
      ],
      "metadata": {
        "id": "qWRVFu1DFQtV"
      }
    },
    {
      "cell_type": "markdown",
      "source": [
        "# **(Put your answer here)**\n",
        "\n",
        "The optimal reserves that we found are lower than the theoretical and also give us higher revenues than the theoretical. Optimizing reserve prices directly therefore does increase performance greatly."
      ],
      "metadata": {
        "id": "HxBLaKqJFbbN"
      }
    },
    {
      "cell_type": "markdown",
      "source": [
        "## Problem 2.6. Monopoly Reserve Prices\n",
        "\n",
        "In lecture 12 we examined the notion of the optimal monopoly reserve $\\eta_i$, that a seller would offer to a bidder if they were alone in the auction is characterized by finding the solution to the equation:\n",
        "\\begin{align}\n",
        "\\eta_i - \\frac{1 - F_i(\\eta_i)}{f_i(\\eta_i)} = 0\n",
        "\\end{align}\n",
        "\n",
        "Using this formula find the monopoly reserve prices for each of the two bidders (i.e. when $v_1\\sim U[0,15]$ and $v_2\\sim U[0, 20]$). Are these reserve prices closer to the optimal personalized reserves that you computed in the previous section, than the reserve prices you found using the Prophet Inequality approach? (0.5 points)"
      ],
      "metadata": {
        "id": "p89dV-sX4ZnK"
      }
    },
    {
      "cell_type": "markdown",
      "source": [
        "# **(Put your answer here)**\n",
        "\n",
        "F_1(n_1) = n_1/15 , f_1(n_1) = 1/15 , F_2(n_2) = n_2/20 , f_2(n_2) = 1/20\n",
        "\n",
        "\n",
        "Using the above and the given formula and solving,\n",
        "\n",
        "we get\n",
        "\n",
        "n_1 = 7.5\n",
        "n_2 = 10\n",
        "\n",
        "\n",
        "We see thaty the monopoly reserve prices are, in fact, closer to optimal personalized reserves than Prophet Inequality approach."
      ],
      "metadata": {
        "id": "1rd_x65N6Zrr"
      }
    },
    {
      "cell_type": "markdown",
      "source": [
        "Now calculate the revenue of the Second-Price Auction with Player Specific reserves, where the reserve price of each bidder is set to be equal to their monopoly reserve."
      ],
      "metadata": {
        "id": "PevJtKbRGSff"
      }
    },
    {
      "cell_type": "code",
      "source": [
        "def calculate_monopoly_reserves(n_samples = 10000):\n",
        "    ''' (0.5 points) '''\n",
        "    np.random.seed(123)\n",
        "\n",
        "    eta1 = 7.5\n",
        "\n",
        "    eta2 = 10\n",
        "\n",
        "    rev = simulate_non_identical_spa_with_reserves(n_samples, eta1, eta2)\n",
        "\n",
        "    return rev, eta1, eta2"
      ],
      "metadata": {
        "id": "LG9TGMLRvtHq"
      },
      "execution_count": 46,
      "outputs": []
    },
    {
      "cell_type": "code",
      "source": [
        "rev, eta1, eta2 = calculate_monopoly_reserves()\n",
        "print(f'Revenue: {rev:.3f}')"
      ],
      "metadata": {
        "colab": {
          "base_uri": "https://localhost:8080/"
        },
        "id": "lGvHx0Nwu9x-",
        "outputId": "e89d10ca-40b8-4d3b-ee8b-cc056834ee53"
      },
      "execution_count": 47,
      "outputs": [
        {
          "output_type": "stream",
          "name": "stdout",
          "text": [
            "Revenue: 7.250\n"
          ]
        }
      ]
    },
    {
      "cell_type": "markdown",
      "source": [
        "**Expected results.** You should be getting values, approximately\n",
        "```\n",
        "Revenue: 7.250\n",
        "```"
      ],
      "metadata": {
        "id": "XQFMP9XJId3c"
      }
    },
    {
      "cell_type": "markdown",
      "source": [
        "## Problem 2.7 Second Price with the Same Reserve\n",
        "\n",
        "Now examine if an approximately optimal revenue can also be achieved if we used the same reserve price for both bidders. We find the optimal such single reserve price via grid search."
      ],
      "metadata": {
        "id": "spFwKTxhHDog"
      }
    },
    {
      "cell_type": "code",
      "source": [
        "def calculate_optimal_spa_single_reserve(n_samples = 10000):\n",
        "    ''' (0.5 points) '''\n",
        "    np.random.seed(123)\n",
        "\n",
        "    best_rev = 0\n",
        "    best_r = 0\n",
        "    for r in np.linspace(0, 20, 20):\n",
        "        rev = simulate_non_identical_spa_with_reserves(n_samples, r, r)\n",
        "\n",
        "        if rev > best_rev:\n",
        "            best_r, best_rev = r, rev\n",
        "    return best_r, best_rev\n"
      ],
      "metadata": {
        "id": "v2c1vI8hv2-x"
      },
      "execution_count": 48,
      "outputs": []
    },
    {
      "cell_type": "code",
      "source": [
        "best_r, best_rev = calculate_optimal_spa_single_reserve()\n",
        "print(f'r={best_r:.3f}, rev={best_rev:.3f}')"
      ],
      "metadata": {
        "colab": {
          "base_uri": "https://localhost:8080/"
        },
        "id": "_VbKyHtsvmbw",
        "outputId": "fd9116f2-1d53-4385-b056-173bfc0f439c"
      },
      "execution_count": 49,
      "outputs": [
        {
          "output_type": "stream",
          "name": "stdout",
          "text": [
            "r=8.421, rev=7.172\n"
          ]
        }
      ]
    },
    {
      "cell_type": "markdown",
      "source": [
        "**Expected results.** You should be getting values, approximately\n",
        "```\n",
        "r=8.421, rev=7.172\n",
        "```"
      ],
      "metadata": {
        "id": "4-UKJ2qeIq8u"
      }
    },
    {
      "cell_type": "markdown",
      "source": [
        "Comment on how does the optimal single reserve price compares to the personalized reserve prices you calculated in the previous problems. Comment on whether the revenue achieved is close to the revenue achieved by personalized reserves. (0.5 points)"
      ],
      "metadata": {
        "id": "lWdSqVrQHX4l"
      }
    },
    {
      "cell_type": "markdown",
      "source": [
        "# **(Put your answer here)**\n",
        "\n",
        "Optimal single reserve price falls between our personalized reserve vals Resulting revenue is a bit lower than achieved with personalized reserves, but it's still quite close, so uniform reserve still performs fairly well in comparison to others."
      ],
      "metadata": {
        "id": "JjVrqM3EHhMt"
      }
    },
    {
      "cell_type": "code",
      "source": [],
      "metadata": {
        "id": "bZVOKGEesYLt"
      },
      "execution_count": null,
      "outputs": []
    }
  ]
}