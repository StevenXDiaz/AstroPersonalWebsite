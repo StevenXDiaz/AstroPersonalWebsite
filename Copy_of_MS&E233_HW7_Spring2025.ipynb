{
  "nbformat": 4,
  "nbformat_minor": 0,
  "metadata": {
    "colab": {
      "provenance": [],
      "include_colab_link": true
    },
    "kernelspec": {
      "name": "python3",
      "display_name": "Python 3"
    },
    "language_info": {
      "name": "python"
    }
  },
  "cells": [
    {
      "cell_type": "markdown",
      "metadata": {
        "id": "view-in-github",
        "colab_type": "text"
      },
      "source": [
        "<a href=\"https://colab.research.google.com/github/StevenXDiaz/AstroPersonalWebsite/blob/main/Copy_of_MS%26E233_HW7_Spring2025.ipynb\" target=\"_parent\"><img src=\"https://colab.research.google.com/assets/colab-badge.svg\" alt=\"Open In Colab\"/></a>"
      ]
    },
    {
      "cell_type": "markdown",
      "source": [
        "# MS&E 233 (Spring 2025): Homework 7 (due June 1st, 8pm)"
      ],
      "metadata": {
        "id": "ACHgol3eXUJJ"
      }
    },
    {
      "cell_type": "markdown",
      "source": [
        "# Problem 1. ERM over Personalized Reserve Prices\n",
        "\n",
        "In this problem we'll be exploring the revenue of running ERM over personalized reserve prices and using the Second-Price Auction with personalized reserves.\n",
        "\n",
        "We will consider a setting with two bidders. Bidder 1 has values distributed as $v_1\\sim U[0, A]$ and bidder 2 has values distributed as $v_2\\sim U[0, B]$.\n",
        "\n",
        "\n",
        "\n",
        "\n"
      ],
      "metadata": {
        "id": "1zfcpS5HmL9R"
      }
    },
    {
      "cell_type": "code",
      "source": [
        "import numpy as np\n",
        "np.random.seed(123)\n",
        "A = 1.0\n",
        "B = 2.0\n",
        "def gen_data(n_samples, A=A, B=B):\n",
        "    v1 = np.random.uniform(0, A, size=n_samples)\n",
        "    v2 = np.random.uniform(0, B, size=n_samples)\n",
        "    return v1, v2"
      ],
      "metadata": {
        "id": "nleS5g9YZaKv"
      },
      "execution_count": 14,
      "outputs": []
    },
    {
      "cell_type": "markdown",
      "source": [
        "## 1.1 Let's First Re-Implement the Myerson Auction and Calculate a very Accurate Estimate of the Optimal Revenue and Also Re-Implement Second-Price with Personalized Reserves\n",
        "\n",
        "We implement the Myerson auction. You already solved this in your previous homework for the case of A=15 and B=20. Generalize it to any A, B. If you solved it using a for loop then try to re-implement it avoiding any \"for\" loops which are painfully slow in python.\n",
        "\n",
        "**Hint:** For instance, as a simplistic example if the rules say that we collect revenue `v2` whenever `v1 >= v2`, and we collect revenue `v1` when `v1 < v2`, then if `v1` and `v2` are vectors that contain samples of values of bidder 1 and bidder 2, then we can calculate the revenue for each auction profile as:\n",
        "```python\n",
        "rev = 1.0 * (v1 >= v2) * v2 + 1.0 * (v1 < v2) * v1\n",
        "avg_rev = np.mean(rev)\n",
        "```\n",
        "which does not use any for loop over the auction samples."
      ],
      "metadata": {
        "id": "zzjBXlNE_zzj"
      }
    },
    {
      "cell_type": "code",
      "source": [
        "def simulate_myerson(v1, v2, A=A, B=B):\n",
        "    '''(1 points)\n",
        "    v1: samples for bidder 1\n",
        "    v2: samples for bidder 2\n",
        "    '''\n",
        "    assert len(v1) == len(v2)\n",
        "\n",
        "    # Calculate revenue for each of the sampled value profiles\n",
        "    # We avoid any for loop, which is painfully slow.\n",
        "    phi_1 = 2*v1-A\n",
        "    phi_2 = 2*v2-B\n",
        "\n",
        "    passes = (phi_1 >= 0) | (phi_2 >= 0)\n",
        "\n",
        "    firstBidWins = (phi_1 >= phi_2) & passes\n",
        "    secondBidWins = (phi_1 < phi_2) & passes\n",
        "\n",
        "    first = np.where(phi_2 <= 0, 0.5 * A, 0.5 * (phi_2 + A))\n",
        "    second = np.where(phi_1 <= 0, 0.5 * B, 0.5 * (phi_1 + B))\n",
        "\n",
        "    rev = np.zeros_like(v1)\n",
        "    rev[firstBidWins] = first[firstBidWins]\n",
        "    rev[secondBidWins] = second[secondBidWins]\n",
        "\n",
        "    # we then return the average revenue\n",
        "    return np.mean(rev)"
      ],
      "metadata": {
        "id": "VKFgYJyxh7aA"
      },
      "execution_count": 23,
      "outputs": []
    },
    {
      "cell_type": "code",
      "source": [
        "# Let's calculate a very accurate approximation of the optimal revenue\n",
        "# by drawing a very large number of samples and calculating the empirical\n",
        "# average of Myerson's revenue\n",
        "np.random.seed(123)\n",
        "v1, v2 = gen_data(100000)\n",
        "rev = simulate_myerson(v1, v2)\n",
        "print(f'Optimal Revenue={rev:.3f}')"
      ],
      "metadata": {
        "id": "cRdsDP-PAHpO",
        "outputId": "ac909eec-00c8-4515-a650-8c9c67c3d813",
        "colab": {
          "base_uri": "https://localhost:8080/"
        }
      },
      "execution_count": 24,
      "outputs": [
        {
          "output_type": "stream",
          "name": "stdout",
          "text": [
            "Optimal Revenue=0.647\n"
          ]
        }
      ]
    },
    {
      "cell_type": "markdown",
      "source": [
        "**Expected Answers** You should be getting\n",
        "```\n",
        "Optimal Revenue=0.647\n",
        "```"
      ],
      "metadata": {
        "id": "rCyGiQ_wwnU2"
      }
    },
    {
      "cell_type": "markdown",
      "source": [
        "**Secon Price with Personalized Reserves (SPA-r) Auction** Implement the Second Price Auction with Player-Specific Reserves, described in Slide 49 of [Lecture 12](https://raw.githubusercontent.com/stanford-msande233/spring24/master/assets/presentations/Lecture12.pdf).\n",
        "\n",
        "In particular\n",
        "1. Each bidder $i$ has a reserve price $r_i$\n",
        "2. Reject all bidders with bid below the reserve\n",
        "3. Among all bidders with value $v_i \\geq r_i$ allocate to highest bidder\n",
        "4. Charge winner max of their reserve and the next highest non-rejected bid\n",
        "\n",
        "We will implement this auction only for the special case of two bidders and arbitrary reserve prices $r_1, r_2$.\n",
        "\n",
        "This exercise was also asked of you in the last homework. Copy your code. If you were using a for loop, re-implement it without a for loop, as you did for the Myerson auction.\n"
      ],
      "metadata": {
        "id": "CPI0b_ZzAJnN"
      }
    },
    {
      "cell_type": "code",
      "source": [
        "def simulate_non_identical_spa_with_reserves(v1, v2, r1, r2):\n",
        "    '''(1 points)\n",
        "    v1: samples for bidder 1\n",
        "    v2: samples for bidder 2\n",
        "    r1: reserve price for bidder 1\n",
        "    r2: reserve price for bidder 2\n",
        "    '''\n",
        "    assert len(v1) == len(v2)\n",
        "\n",
        "    # We again avoid any for loop\n",
        "    firstBidPasses = (v1 >= r1)\n",
        "    secondBidPasses = (v2 >= r2)\n",
        "\n",
        "    bothPass = firstBidPasses & secondBidPasses\n",
        "    firstBidWins = bothPass & (v1 > v2)\n",
        "    secondBidWins = bothPass & (v1 <= v2)\n",
        "\n",
        "    rev = np.zeros_like(v1)\n",
        "    rev[firstBidWins] = np.maximum(v2[firstBidWins], r1)\n",
        "    rev[secondBidWins] = np.maximum(v1[secondBidWins], r2)\n",
        "\n",
        "    rev[firstBidPasses & ~bothPass] = r1\n",
        "    rev[secondBidPasses & ~bothPass] = r2\n",
        "\n",
        "\n",
        "    # we then return the average revenue\n",
        "    return np.mean(rev)"
      ],
      "metadata": {
        "id": "AGgRkH8OA2HV"
      },
      "execution_count": 25,
      "outputs": []
    },
    {
      "cell_type": "markdown",
      "source": [
        "## Problem 1.2 Optimize over the Personalized Reserves\n",
        "\n",
        "Now let's implement ERM over the reserves. Remember that wlog it suffices to search over the $2*m$ samples values from the bidders. Any other reserve price will be sub-optimal."
      ],
      "metadata": {
        "id": "Pga8HqVaE5sM"
      }
    },
    {
      "cell_type": "code",
      "source": [
        "np.random.seed(123)\n",
        "\n",
        "def erm_spa_personalized_reserves(v1, v2):\n",
        "    #(0.5 points)\n",
        "    best_rev = 0\n",
        "    best_r1 = 0\n",
        "    best_r2 = 0\n",
        "    # Calculate the candidate reserve prices for each bidder as the union\n",
        "    # of all the unique values of any bidder among the samples.\n",
        "    # So if bidder 1 had samples V1={v11, ..., v1m}\n",
        "    # and bidder 2 had samples V2={v21, ..., v24} we will consider the unique\n",
        "    # values in the union of these two sets as plausible reserves for each bidder\n",
        "    candidates = np.unique(np.concatenate((v1, v2)))\n",
        "    # Go over candidate pairs of reserve prices (r1, r2) for each bidder\n",
        "    for r1 in candidates:\n",
        "        for r2 in candidates:\n",
        "            # calculate revenue of SPA-r auction on the samples v1, v2\n",
        "            rev = simulate_non_identical_spa_with_reserves(v1, v2, r1, r2)\n",
        "            # if better than current best then update\n",
        "            if rev > best_rev:\n",
        "                best_r1, best_r2, best_rev = r1, r2, rev\n",
        "    return best_r1, best_r2, best_rev"
      ],
      "metadata": {
        "id": "eH4-4DxbbGtR"
      },
      "execution_count": 26,
      "outputs": []
    },
    {
      "cell_type": "code",
      "source": [
        "# Suppose we have 100 historical samples. Run ERM and report the\n",
        "# reserve prices calculated as well as the revenue on the historical samples\n",
        "# i.e. the revenue on the \"training set\"\n",
        "np.random.seed(123)\n",
        "v1, v2 = gen_data(100)\n",
        "best_r1, best_r2, best_rev = erm_spa_personalized_reserves(v1, v2)\n",
        "print(f'r1={best_r1:.3f}, r2={best_r2:.3f}, rev_train={best_rev:.3f}')\n",
        "\n",
        "# Now we examine how these reserves perform next year.\n",
        "# Suppose next year we run 10000 iterations of the same auction\n",
        "# what average revenue do we get\n",
        "v1test, v2test = gen_data(10000)\n",
        "rev_test = simulate_non_identical_spa_with_reserves(v1test, v2test, best_r1, best_r2)\n",
        "print(f'r1={best_r1:.3f}, r2={best_r2:.3f}, rev_test={rev_test:.3f}')"
      ],
      "metadata": {
        "id": "EVU8bWFtfeaL",
        "colab": {
          "base_uri": "https://localhost:8080/"
        },
        "outputId": "40db0f3a-49e6-4580-8f96-cf6833b2a2b8"
      },
      "execution_count": 27,
      "outputs": [
        {
          "output_type": "stream",
          "name": "stdout",
          "text": [
            "r1=0.532, r2=1.096, rev_train=0.708\n",
            "r1=0.532, r2=1.096, rev_test=0.635\n"
          ]
        }
      ]
    },
    {
      "cell_type": "markdown",
      "source": [
        "**Expected Answers** You should be getting\n",
        "```\n",
        "r1=0.532, r2=1.096, rev_train=0.708\n",
        "r1=0.532, r2=1.096, rev_test=0.635\n",
        "```"
      ],
      "metadata": {
        "id": "tXHGndGC8J1S"
      }
    },
    {
      "cell_type": "markdown",
      "source": [
        "Discuss the difference in training revenue and test revenue. Does it align with what we learned in class? (0.5 points)"
      ],
      "metadata": {
        "id": "_YmHyFGkgK_Q"
      }
    },
    {
      "cell_type": "markdown",
      "source": [
        "# **[Place your answer here]**\n",
        "\n",
        "Our test revenue is smaller than our training revenue since the reserves lead to a bit of overtraining. This does align with what we learned in class."
      ],
      "metadata": {
        "id": "R2SLQ-WXgSOa"
      }
    },
    {
      "cell_type": "markdown",
      "source": [
        "## Problem 1.3 Implement a Parallel Version of the ERM\n",
        "\n",
        "We can improve run time by implementing a parallel version of the search over reserve prices. We will use the `Parallel, delayed` functions from `joblib`. See\n",
        "https://joblib.readthedocs.io/en/latest/parallel.html\n",
        "for more details on how to use them.\n",
        "\n",
        "If you have a function `func` with arguments `args` and which returns a scalar `out`, then you can run the function in parallel with different arguments, by simply writing:\n",
        "```python\n",
        "outs = Parallel(n_jobs=-1, verbose=3)(delayed(func)(args_it) for args_it in args_list)\n",
        "```\n",
        "Now `outs` is a list of all the `out` for each call of func, with the corresponding arguments `args_it`.\n"
      ],
      "metadata": {
        "id": "gult2Xn3gUpy"
      }
    },
    {
      "cell_type": "code",
      "source": [
        "import joblib\n",
        "import joblib\n",
        "from itertools import product\n",
        "\n",
        "def parallel_erm_spa_personalized_reserves(v1, v2, grid=False, A=A, B=B):\n",
        "    #(1 points)\n",
        "    if grid:\n",
        "        # For the case when v1, v2 have too many samples, it might be too\n",
        "        # expensive to go over (2m)**2 possibilities for (r1, r2). We will\n",
        "        # get a very similar accuracy if we simply search over a fine enough\n",
        "        # grid\n",
        "        reserves = list(product(np.linspace(0, A, 100), np.linspace(0, B, 100)))\n",
        "    else:\n",
        "        # For the case when v1, v2 don't have that many samples, we use the\n",
        "        # same candidates as in the previous question\n",
        "        candidates = np.unique(np.concatenate((v1, v2)))\n",
        "        # Define the set of plausible pairs of reserves (r1, r2) into a list\n",
        "        # Hint: see how we did it above for the grids\n",
        "        reserves = list(product(candidates, repeat=2))\n",
        "\n",
        "    # Run a parallel for loop over the plausible pairs of reserve prices (r1, r2)\n",
        "    # to construct a list of all the revenues that correspond to each pair\n",
        "    revs = joblib.Parallel(n_jobs=-1)(\n",
        "        joblib.delayed(simulate_non_identical_spa_with_reserves)(v1, v2, r1, r2)\n",
        "        for r1, r2 in reserves\n",
        "    )\n",
        "    # find the best revenue pair (don't use a for loop)\n",
        "    best_rev = revs[np.argmax(revs)]\n",
        "    # find the reserve prices that correspond to the best revenue pair\n",
        "    # (don't use a for loop)\n",
        "    best_r1, best_r2 = reserves[np.argmax(revs)]\n",
        "    # return the best reserves and best revenue\n",
        "    return best_r1, best_r2, best_rev"
      ],
      "metadata": {
        "id": "_LIlujjulgbt"
      },
      "execution_count": 40,
      "outputs": []
    },
    {
      "cell_type": "code",
      "source": [
        "# Suppose we have 100 historical samples. Run ERM and report the\n",
        "# reserve prices calculated as well as the revenue on the historical samples\n",
        "# i.e. the revenue on the \"training set\"\n",
        "np.random.seed(123)\n",
        "v1, v2 = gen_data(100)\n",
        "best_r1, best_r2, best_rev = parallel_erm_spa_personalized_reserves(v1, v2)\n",
        "print(f'r1={best_r1:.3f}, r2={best_r2:.3f}, rev_train={best_rev:.3f}')\n",
        "\n",
        "# Now we examine how these reserves perform next year.\n",
        "# Suppose next year we run 10000 iterations of the same auction\n",
        "# what average revenue do we get\n",
        "v1test, v2test = gen_data(10000)\n",
        "rev_test = simulate_non_identical_spa_with_reserves(v1test, v2test, best_r1, best_r2)\n",
        "print(f'r1={best_r1:.3f}, r2={best_r2:.3f}, rev_test={rev_test:.3f}')"
      ],
      "metadata": {
        "id": "OAU_TNpi9S-c",
        "colab": {
          "base_uri": "https://localhost:8080/"
        },
        "outputId": "20e6ce84-966c-4955-c7fe-e5e5d57df927"
      },
      "execution_count": 41,
      "outputs": [
        {
          "output_type": "stream",
          "name": "stdout",
          "text": [
            "r1=0.532, r2=1.096, rev_train=0.708\n",
            "r1=0.532, r2=1.096, rev_test=0.635\n"
          ]
        }
      ]
    },
    {
      "cell_type": "markdown",
      "source": [
        "**Expected Answer**\n",
        "```\n",
        "r1=0.532, r2=1.096, rev_train=0.708\n",
        "r1=0.532, r2=1.096, rev_test=0.635\n",
        "```"
      ],
      "metadata": {
        "id": "wu5kKzhr8fR3"
      }
    },
    {
      "cell_type": "code",
      "source": [
        "# Let's calculate the optimal reserve prices by using a very large number of\n",
        "# historical samples and searching over a grid of prices, instead of all the\n",
        "# (2*m)**2 possible pairs of reserves\n",
        "np.random.seed(1234)\n",
        "v1pop, v2pop = gen_data(100000)\n",
        "opt_r1, opt_r2, opt_rev = parallel_erm_spa_personalized_reserves(v1pop, v2pop, grid=True)"
      ],
      "metadata": {
        "id": "1lZfWiqPaXir"
      },
      "execution_count": 42,
      "outputs": []
    },
    {
      "cell_type": "code",
      "source": [
        "print(f'r1={opt_r1:.3f}, r2={opt_r2:.3f}, opt_rev_population={opt_rev:.3f}')\n",
        "# also calculate the revenue that the ERM reserves we estimated area achieving\n",
        "rev_pop = simulate_non_identical_spa_with_reserves(v1pop, v2pop, best_r1, best_r2)\n",
        "print(f'r1={best_r1:.3f}, r2={best_r2:.3f}, rev_population={rev_pop:.3f}')"
      ],
      "metadata": {
        "id": "zfs0kVawjJts",
        "colab": {
          "base_uri": "https://localhost:8080/"
        },
        "outputId": "cfa25d6b-fd04-4f74-a2e9-c75e72eb3cad"
      },
      "execution_count": 43,
      "outputs": [
        {
          "output_type": "stream",
          "name": "stdout",
          "text": [
            "r1=0.495, r2=1.111, opt_rev_population=0.632\n",
            "r1=0.532, r2=1.096, rev_population=0.631\n"
          ]
        }
      ]
    },
    {
      "cell_type": "markdown",
      "source": [
        "**Expected Answer**\n",
        "```\n",
        "r1=0.495, r2=1.111, opt_rev_population=0.632\n",
        "r1=0.532, r2=1.096, rev_population=0.631\n",
        "```"
      ],
      "metadata": {
        "id": "O8Nhavjl81Nk"
      }
    },
    {
      "cell_type": "markdown",
      "source": [
        "How close was the revenue of the reserve prices we found to the revenue of the optimal reserves? (0.5 points)\n"
      ],
      "metadata": {
        "id": "Sn-L9G7Yik70"
      }
    },
    {
      "cell_type": "markdown",
      "source": [
        "# **[Place your answer here]**\n",
        "\n",
        "The revenues are almost identical so the ERM process is a good process."
      ],
      "metadata": {
        "id": "Ug8xOFq0yeJZ"
      }
    },
    {
      "cell_type": "markdown",
      "source": [
        "# Problem 2. Second Price Auction with Lazy Reserve Prices\n",
        "\n",
        "Optimizing over reserve prices in the SPA-r auction requires going over a grid of prices for each bidder. This leads to an exponential explosion of the search space for each bidder, i.e. we need to search over $(n m)^n$ tuples of reserve prices!\n",
        "\n",
        "Even for $n=2$ the previous exercise showcases, that things can get slow quite quickly.\n",
        "\n",
        "It would have been nicer if instead we had an algorithm to optimize over reserve prices that only scales linearly with the number of bidders. For instance, maybe we only need to optimize reserve prices separately for each bidder and not jointly across bidders. Then we would only need to perform $O(nm)$ operations per bidder, which would still only be $O(n^2 m)$ operations. This can make a big difference in practice, with a lot of historical samples and several bidders. Even with two bidders, this will be a big time saver.\n",
        "\n",
        "Unfortunately, optimizing the reserves in SPA-r is an NP-hard problem (see. https://arxiv.org/abs/1602.07720) We will now consider an alternative variant of the SPA auction, which as proven in https://arxiv.org/abs/1602.07720 allows for the optimization of reserve prices in near linear time in the number of bidders!\n",
        "\n",
        "This is called the Lazy-Reserves SPA. You can read Section 3 of the paper for more details. But here are the essentials. In the lazy reserves, we always only consider allocating to the highest bidder. We never discard bids. So we only look at the highest bidder $b_(1)$. If that bidder passes their personalized reserve $r_(1)$, then we allocate to them and we charge them the maximum of the second highest bid or their personalized reserve $\\max\\{b_{(2)}, r_{(1)}\\}$. If the highest bidder does not pass the reserve, then we discard the item and don't allocate to anyone. So the rules are:\n",
        "1. If $b_{(1)} < r_{(1)}$, then discard the item and don't allocate to anyone and get zero revenue\n",
        "2. If $b_{(1)} \\geq r_{(1)}$, then allocate to the highest bidder and charge them $\\max\\{b_{(2)}, r_{(1)}\\}$.\n",
        "\n",
        "More concretely, if we have two bidders, then we can see that these rules say that:\n",
        "1. If $v_1 >= v_2$ and $v_1 \\geq r_1$, then allocate to bidder 1 and charge $\\max\\{b_2, r_1\\}$.\n",
        "2. If $v_2 > v_1$ and $v_2 \\geq r_2$, then allocate to bidder 2 and charge $\\max\\{b_1, r_2\\}$.\n",
        "3. Otherwise don't allocate to anyone and get zero revenue."
      ],
      "metadata": {
        "id": "S4_BY2W38hDb"
      }
    },
    {
      "cell_type": "markdown",
      "source": [
        "## Problem 2.1. Implement Lazy Reserves\n",
        "\n",
        "Implement the Lazy reserves second price auction. When taking a set of samples of value profiles for the bidders, calculate the revenue of the Lazy Reserves SPA, for each auction sample and then average the revenue"
      ],
      "metadata": {
        "id": "Cri16uak9w0M"
      }
    },
    {
      "cell_type": "code",
      "source": [
        "def simulate_non_identical_spa_with_lazy_reserves(v1, v2, r1, r2):\n",
        "    '''(0.5 points)\n",
        "    v1: samples for bidder 1\n",
        "    v2: samples for bidder 2\n",
        "    r1: reserve price for bidder 1\n",
        "    r2: reserve price for bidder 2\n",
        "    '''\n",
        "    assert len(v1) == len(v2)\n",
        "    # Calculate the revenue of the lazy reserves SPA-r for each samples\n",
        "    # We again avoid any for loop\n",
        "    rev = np.zeros_like(v1)\n",
        "\n",
        "    firstBidWins = (v1 > v2) & (v1 >= r1)\n",
        "    rev[firstBidWins] = np.maximum(v2[firstBidWins], r1)\n",
        "\n",
        "    secondBidWins = (v2 > v1) & (v2 >= r2)\n",
        "    rev[secondBidWins] = np.maximum(v1[secondBidWins], r2)\n",
        "\n",
        "\n",
        "    # Return the average revenue\n",
        "    return np.mean(rev)"
      ],
      "metadata": {
        "id": "7HY27G6vev8c"
      },
      "execution_count": 44,
      "outputs": []
    },
    {
      "cell_type": "code",
      "source": [
        "# Let's compare if lazy vs eager makes any difference\n",
        "# for a natural choice of reserves\n",
        "np.random.seed(123)\n",
        "v1, v2 = gen_data(100000)\n",
        "rev = simulate_non_identical_spa_with_reserves(v1, v2, A/2, B/2)\n",
        "print(f'Revenue={rev:.3f}')\n",
        "rev = simulate_non_identical_spa_with_lazy_reserves(v1, v2, A/2, B/2)\n",
        "print(f'Revenue={rev:.3f}')"
      ],
      "metadata": {
        "id": "Ia0ji_2wg61P",
        "colab": {
          "base_uri": "https://localhost:8080/"
        },
        "outputId": "3c53f897-aa27-47f8-bb60-97cf772c89f5"
      },
      "execution_count": 45,
      "outputs": [
        {
          "output_type": "stream",
          "name": "stdout",
          "text": [
            "Revenue=0.625\n",
            "Revenue=0.605\n"
          ]
        }
      ]
    },
    {
      "cell_type": "markdown",
      "source": [
        "**Expected Answer**\n",
        "```\n",
        "Revenue=0.625\n",
        "Revenue=0.605\n",
        "```"
      ],
      "metadata": {
        "id": "1ZHFV93x9BaS"
      }
    },
    {
      "cell_type": "markdown",
      "source": [
        "## Problem 2.2. Implement Parallelized ERM over Lazy Reserves\n",
        "\n",
        "As a first step, let's implement the exact same parallelized ERM as what we did for the eager reserves, without any of the efficiency gains described in the paper. This is the analogue of what you did for Eager reserves in the previous problem."
      ],
      "metadata": {
        "id": "dheVdVrK90sS"
      }
    },
    {
      "cell_type": "code",
      "source": [
        "from joblib import Parallel, delayed\n",
        "from itertools import product\n",
        "\n",
        "np.random.seed(123)\n",
        "\n",
        "def erm_spa_personalized_lazy_reserves(v1, v2, grid=False, A=A, B=B):\n",
        "    #(1 points)\n",
        "    if grid:\n",
        "        reserves = list(product(np.linspace(0, A, 100), np.linspace(0, B, 100)))\n",
        "    else:\n",
        "        # For the case when v1, v2 don't have that many samples, we use the\n",
        "        # same candidates as in the previous question\n",
        "        candidates = np.unique(np.concatenate([v1, v2]))\n",
        "        # Define the set of plausible pairs of reserves (r1, r2) into a list\n",
        "        # Hint: see how we did it above for the grids\n",
        "        reserves = list(product(candidates, candidates))\n",
        "    # Run a parallel for loop over the plausible pairs of reserve prices (r1, r2)\n",
        "    # to construct a list of all the revenues that correspond to each pair\n",
        "    revs = joblib.Parallel(n_jobs=-1)(\n",
        "        joblib.delayed(simulate_non_identical_spa_with_lazy_reserves)(v1, v2, r1, r2)\n",
        "        for r1, r2 in reserves)\n",
        "    # find the best revenue pair (don't use a for loop)\n",
        "    best_rev = revs[np.argmax(revs)]\n",
        "    # find the reserve prices that correspond to the best revenue pair\n",
        "    # (don't use a for loop)\n",
        "    best_r1, best_r2 = reserves[np.argmax(revs)]\n",
        "    # return the best reserves and best revenue\n",
        "    return best_r1, best_r2, best_rev"
      ],
      "metadata": {
        "id": "sdxnJTP9g_Sc"
      },
      "execution_count": 52,
      "outputs": []
    },
    {
      "cell_type": "markdown",
      "source": [
        "Let's calculate the ERM over lazy reserves with 100 historical samples."
      ],
      "metadata": {
        "id": "877mogl0oTK1"
      }
    },
    {
      "cell_type": "code",
      "source": [
        "np.random.seed(123)\n",
        "v1, v2 = gen_data(100)\n",
        "best_r1, best_r2, best_rev = erm_spa_personalized_lazy_reserves(v1, v2)\n",
        "print(f'r1={best_r1:.3f}, r2={best_r2:.3f}, rev={best_rev:.3f}')"
      ],
      "metadata": {
        "id": "eME7cL648RYa",
        "colab": {
          "base_uri": "https://localhost:8080/"
        },
        "outputId": "a96b9eb6-04da-46ad-9048-cad4683194e2"
      },
      "execution_count": 53,
      "outputs": [
        {
          "output_type": "stream",
          "name": "stdout",
          "text": [
            "r1=0.532, r2=1.096, rev=0.674\n"
          ]
        }
      ]
    },
    {
      "cell_type": "markdown",
      "source": [
        "**Expected Answer**\n",
        "```\n",
        "r1=0.532, r2=1.096, rev=0.674\n",
        "```"
      ],
      "metadata": {
        "id": "OeCaXl8F9Sp_"
      }
    },
    {
      "cell_type": "markdown",
      "source": [
        "Let's compare with the ERM over eager reserves"
      ],
      "metadata": {
        "id": "WPKcRzYpoiJu"
      }
    },
    {
      "cell_type": "code",
      "source": [
        "np.random.seed(123)\n",
        "v1, v2 = gen_data(100)\n",
        "best_r1, best_r2, best_rev = parallel_erm_spa_personalized_reserves(v1, v2)\n",
        "print(f'r1={best_r1:.3f}, r2={best_r2:.3f}, rev={best_rev:.3f}')"
      ],
      "metadata": {
        "id": "YiwsUOE8rWJV",
        "colab": {
          "base_uri": "https://localhost:8080/"
        },
        "outputId": "bc327c26-625d-432f-be4d-96e8877e6e9d"
      },
      "execution_count": 54,
      "outputs": [
        {
          "output_type": "stream",
          "name": "stdout",
          "text": [
            "r1=0.532, r2=1.096, rev=0.708\n"
          ]
        }
      ]
    },
    {
      "cell_type": "markdown",
      "source": [
        "**Expected Answer**\n",
        "```\n",
        "r1=0.532, r2=1.096, rev=0.708\n",
        "```"
      ],
      "metadata": {
        "id": "6TKG94xh9VSF"
      }
    },
    {
      "cell_type": "markdown",
      "source": [
        "Which of the two revenues is larger? Which of the Theorems in Section 4.2 of the paper is relevant to our setting? When optimizing over lazy reserves, should we expect to get smaller or larger revenue than when optimizing over eager reserves, in the setting that we consider here? (1 points)"
      ],
      "metadata": {
        "id": "L-tmKzIFoqII"
      }
    },
    {
      "cell_type": "markdown",
      "source": [
        "# **[Place your answer here]**\n",
        "\n",
        "The eager reserves method gave us a larger revenue than the lazy reserves did, and this aligns with Theorem 7 of the provided paper, since our bidder valuations are drawn independently."
      ],
      "metadata": {
        "id": "pyOVhEpiosoX"
      }
    },
    {
      "cell_type": "markdown",
      "source": [
        "## Problem 2.3 Implement Efficient ERM over Lazy Reserves\n",
        "\n",
        "By the rules of the lazy reserve auction, we can write the revenue of the auction on the samples as:\n",
        "\\begin{align}\n",
        "\\sum_{j=1}^m \\left(1\\{v_1^j \\geq v_2^j\\}\\cdot 1\\{v_1^j \\geq r_1\\}\\cdot \\max\\{v_2, r_1\\} + 1\\{v_1^j < v_2^j\\}\\cdot 1\\{v_2^j \\geq r_2\\}\\cdot \\max\\{v_1^j, r_2\\}\\right)\n",
        "\\end{align}\n",
        "Note that this objective decomposes into two components and the first component only depends on $r_1$, while the second component only depends on $r_2$! This is the key difference between lazy and eager reserves. With eager reserves, there objective doesn't decompose into these separate components. This separation also holds when we have many bidders! (see Section 5 of the paper https://arxiv.org/pdf/1602.07720)\n",
        "\n",
        "Thus we don't really need to jointly optimize the two components over pairs of $(r_1, r_2)$, it suffices that we separately optimize each compoment!\n",
        "\\begin{align}\n",
        "\\max_{r_1}  \\text{Rev}_1(r_1) \\triangleq \\sum_{j: v_1^j \\geq v_2^j} \\max\\{v_2^j, r_1\\}\\cdot  1\\{v_1^j \\geq r_1\\}\\\\\n",
        "\\max_{r_2} \\text{Rev}_2(r_2) \\triangleq \\sum_{j: v_2^j > v_1^j} \\max\\{v_1^j, r_2\\} \\cdot 1\\{v_2^j \\geq r_2\\}\n",
        "\\end{align}\n",
        "The first objective optimizes over samples where bidder 1 is the highest bidder and the second objective optimizes over samples where bidder 2 is the highest bidder.\n",
        "\n",
        "For each objective, it suffices to consider only the $2\\cdot m$ sets of reserve prices that appear in the objective. Any other reserve price is sub-optimal. Thus if we let $J_1=\\{j: v_1^j \\geq v_2^j\\}$ be the set of auctions where bidder 1 is the highest value bidder and $J_2=\\{j: v_2^j > v_1^j\\}$, the set of auctions where bidder 2 is the highest value bidder, then for the first optimization, we only need to optimize over reserves\n",
        "$$R_1 = \\cup_{j\\in J_1} \\{v_1^j, v_2^j\\}$$\n",
        "and for the second optimization we only need to optimize over reserves $$R_2=\\cup_{j\\in J_2}\\{v_1^j, v_2^j\\}.$$\n",
        "\n",
        "We can solve the first optimization problem, by simply going over all candidate reserve prices $r_1\\in R_1$ and calculating the revenue. There are $O(2|J_1|)$ such candidate reserve prices and calculating the revenue for each candidate takes time $O(|J_1|)$. Thus all in all, we need $O(|J_1|^2)$. Similarly for the second problem. Thus all in all we need $O((2m)^2)$. With $n$ bidders, this would remain $O((nm)^2)$ and not $O((nm)^n)$. In Python we should see a faster run time, simply because calculating the revenue for each candidate reserve is very fast. If we were to take that runtime into account in our previous implementation, then we would be getting that the eager algorithm needed $O((2m)^3)$ calculations. Hence, we saved an order of magnitude (especially for large $m$).\n",
        "\n",
        "Let's implement this!\n"
      ],
      "metadata": {
        "id": "qq2hspfQ96Rt"
      }
    },
    {
      "cell_type": "code",
      "source": [
        "np.random.seed(123)\n",
        "\n",
        "def better_erm_spa_personalized_lazy_reserves(v1, v2):\n",
        "    #(1 points)\n",
        "    best_rev1 = -1\n",
        "    best_r1 = 0\n",
        "    # Calculate the set of candidate reserve prices R_1\n",
        "    # We first find the subset of auctions where v_1>=v2\n",
        "    winner1 = v1>v2\n",
        "    # Then we take the union of the unique values of \\cup_j \\{v_1^j, v_2^j\\}\n",
        "    # in this set\n",
        "    candidates = np.unique(np.concatenate((v1[winner1], v2[winner1])))\n",
        "    # Now we go over all these candidate reserves for bidder 1\n",
        "    for r1 in candidates:\n",
        "        # we calculate the total revenue on the subset of samples\n",
        "        # for which bidder 1 is the highest bidder, i.e. the quantity Rev1(r1)\n",
        "        rev1 = np.sum(np.maximum(v2[winner1], r1) * (v1[winner1] >= r1))\n",
        "        # if it is larger than the current best, we update\n",
        "        if rev1 > best_rev1:\n",
        "            best_r1, best_rev1 = r1, rev1\n",
        "\n",
        "    best_rev2 = -1\n",
        "    best_r2 = 0\n",
        "    # Calculate the set of candidate reserve prices R_2\n",
        "    # We first find the subset of auctions where v_2 > v1\n",
        "    winner2 = v2>v1\n",
        "    # Then we take the union of the unique values of \\cup_j \\{v_1^j, v_2^j\\}\n",
        "    # in this set\n",
        "    candidates = np.unique(np.concatenate((v1[winner2], v2[winner2])))\n",
        "    # Now we go over all these candidate reserves for bidder 2\n",
        "    for r2 in candidates:\n",
        "        # we calculate the total revenue on the subset of samples\n",
        "        # for which bidder 2 is the highest bidder, i.e. the quantity Rev2(r2)\n",
        "        rev2 = np.sum(np.maximum(v1[winner2], r2) * (v2[winner2] >= r2))\n",
        "        # if it is larger than the current best, we update\n",
        "        if rev2 > best_rev2:\n",
        "            best_r2, best_rev2 = r2, rev2\n",
        "\n",
        "    # we return the best reserve for r1 and for r2\n",
        "    # we also return the average revenue of these two reserves. Note that\n",
        "    # this should be (Rev1(r1) + Rev2(r2)) / total_number_of_samples\n",
        "    return best_r1, best_r2, (best_rev1 + best_rev2) / len(v1)"
      ],
      "metadata": {
        "id": "bcbxq93MkeR6"
      },
      "execution_count": 57,
      "outputs": []
    },
    {
      "cell_type": "markdown",
      "source": [
        "Let's measure the time it takes to run ERM over 100 historical samples. We can easily do that with the `%%time` magic command"
      ],
      "metadata": {
        "id": "kLfvkDjPuvee"
      }
    },
    {
      "cell_type": "code",
      "source": [
        "%%time\n",
        "np.random.seed(123)\n",
        "v1, v2 = gen_data(100)\n",
        "best_r1, best_r2, best_rev = better_erm_spa_personalized_lazy_reserves(v1, v2)\n",
        "print(f'r1={best_r1:.3f}, r2={best_r2:.3f}, rev={best_rev:.3f}')"
      ],
      "metadata": {
        "id": "YNAT4bj8uuoz",
        "colab": {
          "base_uri": "https://localhost:8080/"
        },
        "outputId": "d55df5f5-209d-4c05-b019-0d4821c3e113"
      },
      "execution_count": 60,
      "outputs": [
        {
          "output_type": "stream",
          "name": "stdout",
          "text": [
            "r1=0.532, r2=1.096, rev=0.674\n",
            "CPU times: user 2.39 ms, sys: 35 µs, total: 2.42 ms\n",
            "Wall time: 2.4 ms\n"
          ]
        }
      ]
    },
    {
      "cell_type": "markdown",
      "source": [
        "**Expected Answer**\n",
        "```\n",
        "r1=0.532, r2=1.096, rev=0.674\n",
        "```"
      ],
      "metadata": {
        "id": "7aYavXCf9qi0"
      }
    },
    {
      "cell_type": "markdown",
      "source": [
        "Let's compare the result and the compute time with the non-efficient implementaiton we did  in the previous sub-problem. We should be getting the exact same answer as the one we got with the slower code above, that doesn't use this decomposition observation.\n"
      ],
      "metadata": {
        "id": "2y97H3EUum71"
      }
    },
    {
      "cell_type": "code",
      "source": [
        "%%time\n",
        "np.random.seed(123)\n",
        "v1, v2 = gen_data(100)\n",
        "best_r1, best_r2, best_rev = erm_spa_personalized_lazy_reserves(v1, v2)\n",
        "print(f'r1={best_r1:.3f}, r2={best_r2:.3f}, rev={best_rev:.3f}')"
      ],
      "metadata": {
        "id": "6bkhk-_eul6a",
        "colab": {
          "base_uri": "https://localhost:8080/"
        },
        "outputId": "c64e469f-d653-4d04-90fa-897415e32552"
      },
      "execution_count": 61,
      "outputs": [
        {
          "output_type": "stream",
          "name": "stdout",
          "text": [
            "r1=0.532, r2=1.096, rev=0.674\n",
            "CPU times: user 458 ms, sys: 4.35 ms, total: 463 ms\n",
            "Wall time: 1.15 s\n"
          ]
        }
      ]
    },
    {
      "cell_type": "markdown",
      "source": [
        "Comment on the run time of the two versions! (0.25 points)\n",
        "\n",
        "The first version was almost instant, but the next version took about a second, so the first verdsion is faster."
      ],
      "metadata": {
        "id": "bObBUeqYvAqk"
      }
    },
    {
      "cell_type": "markdown",
      "source": [
        "# **[Place your answer here]**"
      ],
      "metadata": {
        "id": "PluRxG6VvERx"
      }
    },
    {
      "cell_type": "markdown",
      "source": [
        "## Problem 2.4 Implement Even more Efficient ERM over Lazy Reserves\n",
        "\n",
        "The paper https://arxiv.org/pdf/1602.07720 proposes an even more efficient approach that can calculate the optimal reserve for each bidder in almost linear time $O(|J_i|)$, instead of $O(|J_i|^2)$ (see Proposition 10).\n",
        "\n",
        "In particular, note that if we sort the candidate reserve prices in $R_1$ in increasing order, then, if we have already calculate the revenue for the $t$-th reserve price in this order, then we can easily calculate the revenue for the $t+1$-th reserve price, without the need to go over all the samples again!\n",
        "\n",
        "To do this, we need to also store, whether the $t$-th reserve price corresponds to a bid of bidder 1 or a bid of bidder 2. Note that the revenue of a reserve price $r_1$ can be written as:\n",
        "\\begin{align}\n",
        "\\text{Rev}_1(r_1) = r_1 \\cdot k(r_1) + s(r_1)\n",
        "\\end{align}\n",
        "where $k(r_1)$ is the number of samples $j\\in J_1$, for which $v_2^j < r_1$, i.e. for which the reserve of bidder 1 is the binding price and not the second highest bid and at the same time $v_1 \\geq r_1$, so that we allocate the item and collect the price. Then $s(r_1)$ is the revenue from the remaining samples where $v_2^j$ is the binding price (in which case note that we definitely allocate the item since $v_1^j \\geq v_2^j \\geq r_1$), i.e.\n",
        "\\begin{align}\n",
        "s(r_1) = \\sum_{j\\in J_1} v_2^j \\cdot 1\\{v_2^j \\geq r_1\\}\n",
        "\\end{align}\n",
        "\n",
        "Let's order the reserve prices in the candidate set in increasing order $\\{r_1, \\ldots, r_{2|J_1|}\\}$. Suppose that we have calculated $k(r_t)$ and $s(r_t)$ for the $t$-th price in this order. Now we consider moving to the next reserve price $t+1$ and hence moving past the reserve price $r_t$.\n",
        "1. If $r_{t}$ corresponds to a value of bidder 2, then by moving past this reserve, we make the reserve price binding for one more sample in $J_1$, thus $k(r_{t+1})=k(r_t)+1$ and we remove this entry from the summand in $s$, i.e. $s(r_{t+1})=s(r_t)-r_t$.  \n",
        "2. If $r_t$ corresponds to a value of bidder 1, then by moving past this reserve, we stop allocating the item in one of the samples, i.e. $k(r_{t+1})=k(r_t)-1$, but we don't change at all the payment collected from samples were the second highest bid is the binding price, i.e. $s(r_{t+1})=s(r_t)$.\n",
        "\n",
        "In the begining, when we consider the lowest reserve price in $R_1$, then all the samples are allocated and the second highest bid is the binding price for all of them, hence $k(r_1)=0$ and $s(r_1)=\\sum_{j\\in J_1} v_2^j$.\n",
        "\n",
        "Let's implement this!"
      ],
      "metadata": {
        "id": "wSvwNogh9-Ha"
      }
    },
    {
      "cell_type": "code",
      "source": [
        "np.random.seed(123)\n",
        "\n",
        "def even_better_erm_spa_personalized_lazy_reserves(v1, v2):\n",
        "    #(1.5 points)\n",
        "\n",
        "    # Indicator of which auctions bidder 1 is the winner\n",
        "    winner1 = v1>v2\n",
        "    # Total number of auctions for which bidder 1 is the winner\n",
        "    n1 = np.sum(winner1)\n",
        "    # Candidate reserve prices R_1. Watch out here not to take only\n",
        "    # the unique elements, as we need to keep track of the type of each element.\n",
        "    # It's ok to have a multiset\n",
        "    candidates = np.concatenate((v1[winner1], v2[winner1]))\n",
        "    # Type of each candidate reserve, i.e. was it a bidder 1 value or a bidder 2?\n",
        "    types = np.concatenate(((np.ones(n1), np.zeros(n1))))\n",
        "    vals = np.concatenate([np.zeros(n1), v2[winner1]])\n",
        "    # Sort the reserves in increasing order and make sure you re-order\n",
        "    # the types so that they accompany the newly sorted reserves\n",
        "    candidates = candidates[np.argsort(candidates)]\n",
        "    types = types[np.argsort(candidates)]\n",
        "    vals = vals[np.argsort(candidates)]\n",
        "\n",
        "    # Let's implement the recursive algorithm for r1\n",
        "    best_rev1 = -1\n",
        "    best_r1 = 0\n",
        "    # we initialize the quanity k=k(r1) and s=s(r1)\n",
        "    k = 0\n",
        "    s = np.sum(v2[winner1])\n",
        "    # for each candidate reserve price r1\n",
        "    for it, r1 in enumerate(candidates):\n",
        "        # Calculate the revenue of reserve r1 given current values of k, s\n",
        "        rev1 = k * r1 +s\n",
        "\n",
        "        # Check if this is the best revenue\n",
        "        if rev1 > best_rev1:\n",
        "            best_r1, best_rev1 = r1, rev1\n",
        "\n",
        "        # Calculate the k, s for the next price, based on the type\n",
        "        # of the current price\n",
        "        if types[it] == 0:\n",
        "            s = s - vals[it]\n",
        "            k = k + 1\n",
        "        else:\n",
        "            k = k - 1\n",
        "\n",
        "    # Do the analogous calculation for r2. Bidder 2 wins if v2 > v1.\n",
        "    winner2 = v2>v1\n",
        "    n2 = np.sum(winner2)\n",
        "    candidates = np.concatenate([v2[winner2], v1[winner2]])\n",
        "    types = np.concatenate([np.ones(n2), np.zeros(n2)])\n",
        "    vals = np.concatenate([np.zeros(n2), v1[winner2]])\n",
        "    candidates = candidates[np.argsort(candidates)]\n",
        "    types = types[np.argsort(candidates)]\n",
        "    vals = vals[np.argsort(candidates)]\n",
        "\n",
        "    best_rev2 = -1\n",
        "    best_r2 = 0\n",
        "    k = 0\n",
        "    s = np.sum(v1[winner2])\n",
        "    for it, r2 in enumerate(candidates):\n",
        "        rev2 = k * r2 +s\n",
        "        if rev2 > best_rev2:\n",
        "            best_r2, best_rev2 = r2, rev2\n",
        "\n",
        "        if types[it] == 0:\n",
        "            s = s - vals[it]\n",
        "            k = k + 1\n",
        "        else:\n",
        "            k = k - 1\n",
        "\n",
        "    # we return the best reserve for r1 and for r2\n",
        "    # we also return the average revenue of these two reserves. Note that\n",
        "    # this should be (Rev1(r1) + Rev2(r2)) / total_number_of_samples\n",
        "    return best_r1, best_r2, (best_rev1 + best_rev2) / len(v1)"
      ],
      "metadata": {
        "id": "v0Mljp4iqvh0"
      },
      "execution_count": 69,
      "outputs": []
    },
    {
      "cell_type": "markdown",
      "source": [
        "We should be getting the same answer as in the previous implementation\n"
      ],
      "metadata": {
        "id": "cjTCWALJ-hpb"
      }
    },
    {
      "cell_type": "code",
      "source": [
        "np.random.seed(123)\n",
        "v1, v2 = gen_data(100)\n",
        "best_r1, best_r2, best_rev = even_better_erm_spa_personalized_lazy_reserves(v1, v2)\n",
        "print(f'r1={best_r1:.3f}, r2={best_r2:.3f}, rev={best_rev:.3f}')"
      ],
      "metadata": {
        "id": "lsZxz3Jw1tKq",
        "colab": {
          "base_uri": "https://localhost:8080/"
        },
        "outputId": "492d469e-1c88-40a8-e8f6-e342657d972d"
      },
      "execution_count": 70,
      "outputs": [
        {
          "output_type": "stream",
          "name": "stdout",
          "text": [
            "r1=0.005, r2=0.016, rev=0.423\n"
          ]
        }
      ]
    },
    {
      "cell_type": "code",
      "source": [
        "np.random.seed(123)\n",
        "v1, v2 = gen_data(100)\n",
        "best_r1, best_r2, best_rev = better_erm_spa_personalized_lazy_reserves(v1, v2)\n",
        "print(f'r1={best_r1:.3f}, r2={best_r2:.3f}, rev={best_rev:.3f}')"
      ],
      "metadata": {
        "id": "lc-rZUw511M3",
        "colab": {
          "base_uri": "https://localhost:8080/"
        },
        "outputId": "a7306bfe-889f-42fa-c662-cfd9607c5687"
      },
      "execution_count": 71,
      "outputs": [
        {
          "output_type": "stream",
          "name": "stdout",
          "text": [
            "r1=0.532, r2=1.096, rev=0.674\n"
          ]
        }
      ]
    },
    {
      "cell_type": "markdown",
      "source": [
        "To get an even more accurate estimate of the runtime, we can use `%%timeit`, which will execute the code many times and give as an average and standard error of the runtime\n",
        "\n"
      ],
      "metadata": {
        "id": "aCgvBcop-jm1"
      }
    },
    {
      "cell_type": "code",
      "source": [
        "%%timeit\n",
        "np.random.seed(123)\n",
        "v1, v2 = gen_data(100)\n",
        "best_r1, best_r2, best_rev = even_better_erm_spa_personalized_lazy_reserves(v1, v2)"
      ],
      "metadata": {
        "id": "tRpzs3PV-olx",
        "colab": {
          "base_uri": "https://localhost:8080/"
        },
        "outputId": "395812d8-ef1c-479a-8446-20976bcef302"
      },
      "execution_count": 72,
      "outputs": [
        {
          "output_type": "stream",
          "name": "stdout",
          "text": [
            "233 µs ± 59.9 µs per loop (mean ± std. dev. of 7 runs, 1000 loops each)\n"
          ]
        }
      ]
    },
    {
      "cell_type": "code",
      "source": [
        "%%timeit\n",
        "np.random.seed(123)\n",
        "v1, v2 = gen_data(100)\n",
        "best_r1, best_r2, best_rev = better_erm_spa_personalized_lazy_reserves(v1, v2)"
      ],
      "metadata": {
        "id": "h3CcAXuj-p95",
        "colab": {
          "base_uri": "https://localhost:8080/"
        },
        "outputId": "ca13cfe9-153d-48ce-8249-fadc423420d4"
      },
      "execution_count": 73,
      "outputs": [
        {
          "output_type": "stream",
          "name": "stdout",
          "text": [
            "2.16 ms ± 352 µs per loop (mean ± std. dev. of 7 runs, 1000 loops each)\n"
          ]
        }
      ]
    },
    {
      "cell_type": "markdown",
      "source": [
        "Comment on the difference in run time (0.25 points)\n"
      ],
      "metadata": {
        "id": "qHiMq2fw2iwD"
      }
    },
    {
      "cell_type": "markdown",
      "source": [
        "# **[Place your answer here]**\n",
        "\n",
        "Since we're using recursion, the Even-Better-ERM-SPA-PERSONALIZED-LAZY-RESERVES is much faster than our previous algorithm"
      ],
      "metadata": {
        "id": "8ogtcWaX2lTs"
      }
    },
    {
      "cell_type": "code",
      "source": [
        "# This is a checker; your even more efficient implementation should always be\n",
        "# returning the same result as your efficient implementation\n",
        "for i in range(100):\n",
        "    v1, v2 = gen_data(50)\n",
        "    b1, b2, br = even_better_erm_spa_personalized_lazy_reserves(v1, v2)\n",
        "    b1p, b2p, brp = better_erm_spa_personalized_lazy_reserves(v1, v2)\n",
        "    try:\n",
        "      assert np.isclose(b1, b1p), f\"{b1}, {b1p}\"\n",
        "      assert np.isclose(b2, b2p), f\"{b2}, {b2p}\"\n",
        "      assert np.isclose(br, brp), f\"{br}, {brp}\"\n",
        "    except AssertionError as e:\n",
        "      print(f\"Iteration {i}: {e}\")"
      ],
      "metadata": {
        "id": "Pr5-ZZ807f2Q",
        "colab": {
          "base_uri": "https://localhost:8080/"
        },
        "outputId": "2e27b2ab-571f-4691-8043-c6ab745fb27f"
      },
      "execution_count": 75,
      "outputs": [
        {
          "output_type": "stream",
          "name": "stdout",
          "text": [
            "Iteration 0: 0.011885687447059645, 0.48102627550515353\n",
            "Iteration 1: 0.012055771306595853, 0.8751245338732246\n",
            "Iteration 2: 0.00016377522733534988, 0.3618172655313584\n",
            "Iteration 3: 0.05508585930430643, 0.3923040710839275\n",
            "Iteration 4: 0.004183802366454881, 0.6259065116851689\n",
            "Iteration 5: 0.10516067690061859, 0.71007522445797\n",
            "Iteration 6: 0.03951218115934174, 0.4555196422979567\n",
            "Iteration 7: 0.00833697721515203, 0.5351414000152167\n",
            "Iteration 8: 0.0002402029779497994, 0.48905919073955906\n",
            "Iteration 9: 0.0027232782105073294, 0.5581781082188324\n",
            "Iteration 10: 0.020170837841319678, 0.6580889974332463\n",
            "Iteration 11: 0.11063899397107368, 0.6218447514579171\n",
            "Iteration 12: 0.006459776987113086, 0.7688169417869105\n",
            "Iteration 13: 0.18422836399707276, 0.5725451708983658\n",
            "Iteration 14: 0.02265687504729086, 0.43769210866869845\n",
            "Iteration 15: 0.000271884294415381, 0.6250838481678798\n",
            "Iteration 16: 0.025002798813241967, 0.559460097966737\n",
            "Iteration 17: 0.07292441810459893, 0.597546409593858\n",
            "Iteration 18: 0.033500544186236825, 0.4651003039385393\n",
            "Iteration 19: 0.04774707264324851, 0.32175327195288117\n",
            "Iteration 20: 0.03201518921470403, 0.4522772106797265\n",
            "Iteration 21: 0.03581341298066287, 0.7398531426611552\n",
            "Iteration 22: 0.022662540220197647, 0.5928675678050754\n",
            "Iteration 23: 0.00013567662455016283, 0.5931304347856693\n",
            "Iteration 24: 0.013714247922006262, 0.7122264819769908\n",
            "Iteration 25: 0.1884960850902797, 0.6891359057574544\n",
            "Iteration 26: 0.022177732097775626, 0.6355207885567611\n",
            "Iteration 27: 0.015663983598617648, 0.5840997901190099\n",
            "Iteration 28: 0.019363588715076263, 0.652238615774597\n",
            "Iteration 29: 0.07113253540629505, 0.5150911290040044\n",
            "Iteration 30: 0.024858984108876214, 0.5163482523168059\n",
            "Iteration 31: 0.0970260593942518, 0.5246182760801408\n",
            "Iteration 32: 0.005461513277582153, 0.47203865523101474\n",
            "Iteration 33: 0.047457222683827904, 0.6768731429921081\n",
            "Iteration 34: 0.011281886140219521, 0.3423161408080545\n",
            "Iteration 35: 0.0018274687588974992, 0.6855009497602483\n",
            "Iteration 36: 0.052882974424449225, 0.6046595814301613\n",
            "Iteration 37: 0.15421031677535302, 0.5915414140421549\n",
            "Iteration 38: 0.04967356431121672, 0.7330676829980676\n",
            "Iteration 39: 0.04506104341866091, 0.6918981332923173\n",
            "Iteration 40: 0.02092305974781672, 0.5206932488049102\n",
            "Iteration 41: 0.018358799951153193, 0.6145970748418648\n",
            "Iteration 42: 0.006782496223506351, 0.6361465371989325\n",
            "Iteration 43: 0.03785020673671147, 0.5343470136239713\n",
            "Iteration 44: 0.026904927566254067, 0.7155845353440874\n",
            "Iteration 45: 0.07329522218369311, 0.43564139081072206\n",
            "Iteration 46: 0.0314922282401664, 0.45750296359101883\n",
            "Iteration 47: 0.046704826081173545, 0.514965440329211\n",
            "Iteration 48: 0.04001210486412177, 0.7590745708265543\n",
            "Iteration 49: 0.0789948172408963, 0.5732252405077187\n",
            "Iteration 50: 0.05129543941939807, 0.7257818434859376\n",
            "Iteration 51: 0.05878121263151126, 0.7575584055718937\n",
            "Iteration 52: 0.020477861164555744, 0.4640286033833799\n",
            "Iteration 53: 0.004859426096211594, 0.5394703421647911\n",
            "Iteration 54: 0.020307116273543535, 0.6726765342340552\n",
            "Iteration 55: 0.020608766574029547, 0.4906284168017606\n",
            "Iteration 56: 0.0011894754564800714, 0.548081786571591\n",
            "Iteration 57: 0.026717549832209864, 0.6280941283504966\n",
            "Iteration 58: 0.0065745864921507025, 0.7260815883074013\n",
            "Iteration 59: 0.03922448937985212, 0.5471463666836873\n",
            "Iteration 60: 0.003890121532122537, 0.5873128928485002\n",
            "Iteration 61: 0.07368820635449036, 0.6260791133377593\n",
            "Iteration 62: 0.07588789306652166, 0.419494453907447\n",
            "Iteration 63: 0.0225679707369999, 0.6218507235248243\n",
            "Iteration 64: 0.00550180316741411, 0.4458725288605576\n",
            "Iteration 65: 0.054228255462184904, 0.6519072016043428\n",
            "Iteration 66: 0.18652505779782858, 0.7081914570602666\n",
            "Iteration 67: 0.059010480411144206, 0.42229914491118137\n",
            "Iteration 68: 0.0005949779209020178, 0.47151849045083194\n",
            "Iteration 69: 0.04945366716578481, 0.45505630738258185\n",
            "Iteration 70: 0.033543908446957094, 0.5037934341050849\n",
            "Iteration 71: 0.04583612300065454, 0.609253739198471\n",
            "Iteration 72: 0.18484673876131064, 0.6187774206504028\n",
            "Iteration 73: 0.024695683524707857, 0.637169223568002\n",
            "Iteration 74: 0.013794302079353837, 0.3626252366151719\n",
            "Iteration 75: 0.04999387726082971, 0.6343383930422459\n",
            "Iteration 76: 0.015417257417000396, 0.7533281208037811\n",
            "Iteration 77: 0.004769825228494895, 0.47625249537138425\n",
            "Iteration 78: 0.15758263831335295, 0.537852355407516\n",
            "Iteration 79: 0.0082855641697277, 0.44498029180586773\n",
            "Iteration 80: 0.007589451725821261, 0.5686496951383405\n",
            "Iteration 81: 0.0023266443921510227, 0.7017360478543456\n",
            "Iteration 82: 0.0454102631026303, 0.4098892078202565\n",
            "Iteration 83: 0.06208660049384962, 0.585227536749176\n",
            "Iteration 84: 0.04576686687574494, 0.6127798569585875\n",
            "Iteration 85: 0.0029259990309491446, 0.5175105989755051\n",
            "Iteration 86: 0.13432285406764577, 0.6399102987309985\n",
            "Iteration 87: 0.012542355080499723, 0.3555901794441886\n",
            "Iteration 88: 0.06523616214294092, 0.4741083708432625\n",
            "Iteration 89: 0.08074027327566125, 0.5690301403248337\n",
            "Iteration 90: 0.025342571576011386, 0.4754784266349691\n",
            "Iteration 91: 0.0019104382034194067, 0.36983492039099\n",
            "Iteration 92: 0.14694182761860808, 0.36523159517076587\n",
            "Iteration 93: 0.08165042738991302, 0.4237072944161425\n",
            "Iteration 94: 0.013772838188289116, 0.7376520191417111\n",
            "Iteration 95: 0.06788134944976032, 0.6148179592977987\n",
            "Iteration 96: 0.017596633391359084, 0.44210097042626906\n",
            "Iteration 97: 0.007835672477823463, 0.4471025462659286\n",
            "Iteration 98: 0.004808257127048243, 0.36761185929311435\n",
            "Iteration 99: 0.03506665515020857, 0.659724523772825\n"
          ]
        }
      ]
    },
    {
      "cell_type": "code",
      "source": [
        "# This is a checker; your even more efficient implementation should always be\n",
        "# returning the same result as your non-efficient implementation\n",
        "for _ in range(10):\n",
        "    v1, v2 = gen_data(50)\n",
        "    b1, b2, br = even_better_erm_spa_personalized_lazy_reserves(v1, v2)\n",
        "    b1p, b2p, brp = erm_spa_personalized_lazy_reserves(v1, v2)\n",
        "    assert np.isclose(b1, b1p), f\"{b1}, {b1p}\"\n",
        "    assert np.isclose(b2, b2p), f\"{b2}, {b2p}\"\n",
        "    assert np.isclose(br, brp), f\"{br}, {brp}\""
      ],
      "metadata": {
        "id": "1uASqF-n3YXz",
        "colab": {
          "base_uri": "https://localhost:8080/",
          "height": 211
        },
        "outputId": "b20c5bea-e05c-4cff-f954-74fc56aaa29c"
      },
      "execution_count": 76,
      "outputs": [
        {
          "output_type": "error",
          "ename": "AssertionError",
          "evalue": "0.011944677095319989, 0.5439398415201011",
          "traceback": [
            "\u001b[0;31m---------------------------------------------------------------------------\u001b[0m",
            "\u001b[0;31mAssertionError\u001b[0m                            Traceback (most recent call last)",
            "\u001b[0;32m<ipython-input-76-6aea86fa7908>\u001b[0m in \u001b[0;36m<cell line: 0>\u001b[0;34m()\u001b[0m\n\u001b[1;32m      5\u001b[0m     \u001b[0mb1\u001b[0m\u001b[0;34m,\u001b[0m \u001b[0mb2\u001b[0m\u001b[0;34m,\u001b[0m \u001b[0mbr\u001b[0m \u001b[0;34m=\u001b[0m \u001b[0meven_better_erm_spa_personalized_lazy_reserves\u001b[0m\u001b[0;34m(\u001b[0m\u001b[0mv1\u001b[0m\u001b[0;34m,\u001b[0m \u001b[0mv2\u001b[0m\u001b[0;34m)\u001b[0m\u001b[0;34m\u001b[0m\u001b[0;34m\u001b[0m\u001b[0m\n\u001b[1;32m      6\u001b[0m     \u001b[0mb1p\u001b[0m\u001b[0;34m,\u001b[0m \u001b[0mb2p\u001b[0m\u001b[0;34m,\u001b[0m \u001b[0mbrp\u001b[0m \u001b[0;34m=\u001b[0m \u001b[0merm_spa_personalized_lazy_reserves\u001b[0m\u001b[0;34m(\u001b[0m\u001b[0mv1\u001b[0m\u001b[0;34m,\u001b[0m \u001b[0mv2\u001b[0m\u001b[0;34m)\u001b[0m\u001b[0;34m\u001b[0m\u001b[0;34m\u001b[0m\u001b[0m\n\u001b[0;32m----> 7\u001b[0;31m     \u001b[0;32massert\u001b[0m \u001b[0mnp\u001b[0m\u001b[0;34m.\u001b[0m\u001b[0misclose\u001b[0m\u001b[0;34m(\u001b[0m\u001b[0mb1\u001b[0m\u001b[0;34m,\u001b[0m \u001b[0mb1p\u001b[0m\u001b[0;34m)\u001b[0m\u001b[0;34m,\u001b[0m \u001b[0;34mf\"{b1}, {b1p}\"\u001b[0m\u001b[0;34m\u001b[0m\u001b[0;34m\u001b[0m\u001b[0m\n\u001b[0m\u001b[1;32m      8\u001b[0m     \u001b[0;32massert\u001b[0m \u001b[0mnp\u001b[0m\u001b[0;34m.\u001b[0m\u001b[0misclose\u001b[0m\u001b[0;34m(\u001b[0m\u001b[0mb2\u001b[0m\u001b[0;34m,\u001b[0m \u001b[0mb2p\u001b[0m\u001b[0;34m)\u001b[0m\u001b[0;34m,\u001b[0m \u001b[0;34mf\"{b2}, {b2p}\"\u001b[0m\u001b[0;34m\u001b[0m\u001b[0;34m\u001b[0m\u001b[0m\n\u001b[1;32m      9\u001b[0m     \u001b[0;32massert\u001b[0m \u001b[0mnp\u001b[0m\u001b[0;34m.\u001b[0m\u001b[0misclose\u001b[0m\u001b[0;34m(\u001b[0m\u001b[0mbr\u001b[0m\u001b[0;34m,\u001b[0m \u001b[0mbrp\u001b[0m\u001b[0;34m)\u001b[0m\u001b[0;34m,\u001b[0m \u001b[0;34mf\"{br}, {brp}\"\u001b[0m\u001b[0;34m\u001b[0m\u001b[0;34m\u001b[0m\u001b[0m\n",
            "\u001b[0;31mAssertionError\u001b[0m: 0.011944677095319989, 0.5439398415201011"
          ]
        }
      ]
    },
    {
      "cell_type": "markdown",
      "source": [
        "## Problem 2.5 Examine Convergence of Error to the Optimal Lazy Reserves"
      ],
      "metadata": {
        "id": "XcSpgFkR-Dnv"
      }
    },
    {
      "cell_type": "code",
      "source": [
        "from joblib import Parallel, delayed\n",
        "\n",
        "# We write an experiment function that takes as input, number of samples\n",
        "# and a very large test set, that acts as a proxy for next years population\n",
        "def exp_lazy(it, n_samples, v1pop, v2pop):\n",
        "    #(0.5 points)\n",
        "    np.random.seed(it)\n",
        "    # generate historical n_samples\n",
        "    v1, v2 = gen_data(n_samples)\n",
        "    # run ERM over lazy reserves on historical samples\n",
        "    best_r1, best_r2, best_rev = even_better_erm_spa_personalized_lazy_reserves(v1, v2)\n",
        "    # evaluate revenue on the next year's population samples\n",
        "    # of these lazy reserves\n",
        "    rev_pop = simulate_non_identical_spa_with_lazy_reserves(v1pop,\n",
        "v2pop, best_r1, best_r2)\n",
        "    # return next year's revenue\n",
        "    return rev_pop"
      ],
      "metadata": {
        "id": "fbJFJyJ23AY9"
      },
      "execution_count": 77,
      "outputs": []
    },
    {
      "cell_type": "code",
      "source": [
        "# Let's generate a very large next year's population test set\n",
        "# and calculate the optimal reserves on that set\n",
        "np.random.seed(123)\n",
        "v1pop, v2pop = gen_data(100000)\n",
        "opt_r1, opt_r2, opt_rev = even_better_erm_spa_personalized_lazy_reserves(v1pop, v2pop)\n",
        "print(f'r1={opt_r1:.3f}, r2={opt_r2:.3f}, rev={opt_rev:.3f}')"
      ],
      "metadata": {
        "id": "kiHCP7jM-RhO",
        "colab": {
          "base_uri": "https://localhost:8080/"
        },
        "outputId": "3bf51e50-35f9-490d-b181-3c389d5c35dd"
      },
      "execution_count": 78,
      "outputs": [
        {
          "output_type": "stream",
          "name": "stdout",
          "text": [
            "r1=0.000, r2=0.000, rev=0.417\n"
          ]
        }
      ]
    },
    {
      "cell_type": "code",
      "source": [
        "# we go over a grid of historical sample sizes\n",
        "ngrid = [2, 5, 10, 50, 100, 500, 1000]\n",
        "revs = []\n",
        "for n in ngrid:\n",
        "    # for each sample size, we repeat the train and evaluate experiment 100\n",
        "    # times, to measure the average performance of training on n_samples historical\n",
        "    # samples and evaluating on next year's revenue.\n",
        "    rev_results = Parallel(n_jobs=-1, verbose=3)(delayed(exp_lazy)(it, n, v1pop, v2pop) for it in range(100))\n",
        "    # append these results to the list of results for all sample sizes\n",
        "    revs.append(rev_results)"
      ],
      "metadata": {
        "id": "yG596w0Y-JyZ",
        "colab": {
          "base_uri": "https://localhost:8080/"
        },
        "outputId": "e6a00372-e70d-47e5-c82f-184c85d55e5b"
      },
      "execution_count": 79,
      "outputs": [
        {
          "output_type": "stream",
          "name": "stderr",
          "text": [
            "[Parallel(n_jobs=-1)]: Using backend LokyBackend with 2 concurrent workers.\n",
            "[Parallel(n_jobs=-1)]: Done 100 out of 100 | elapsed:    0.5s finished\n",
            "[Parallel(n_jobs=-1)]: Using backend LokyBackend with 2 concurrent workers.\n",
            "[Parallel(n_jobs=-1)]: Done 100 out of 100 | elapsed:    0.5s finished\n",
            "[Parallel(n_jobs=-1)]: Using backend LokyBackend with 2 concurrent workers.\n",
            "[Parallel(n_jobs=-1)]: Done 100 out of 100 | elapsed:    0.5s finished\n",
            "[Parallel(n_jobs=-1)]: Using backend LokyBackend with 2 concurrent workers.\n",
            "[Parallel(n_jobs=-1)]: Done 100 out of 100 | elapsed:    0.8s finished\n",
            "[Parallel(n_jobs=-1)]: Using backend LokyBackend with 2 concurrent workers.\n",
            "[Parallel(n_jobs=-1)]: Done 100 out of 100 | elapsed:    1.1s finished\n",
            "[Parallel(n_jobs=-1)]: Using backend LokyBackend with 2 concurrent workers.\n",
            "[Parallel(n_jobs=-1)]: Done  92 tasks      | elapsed:    1.3s\n",
            "[Parallel(n_jobs=-1)]: Done 100 out of 100 | elapsed:    1.5s finished\n",
            "[Parallel(n_jobs=-1)]: Using backend LokyBackend with 2 concurrent workers.\n",
            "[Parallel(n_jobs=-1)]: Done 100 out of 100 | elapsed:    0.6s finished\n"
          ]
        }
      ]
    },
    {
      "cell_type": "code",
      "source": [
        "import matplotlib.pyplot as plt\n",
        "revs = np.array(revs)\n",
        "# for each sample size, we calculate the average error, compared to the\n",
        "# optimal revenue, we calculate a few cells above.\n",
        "error = np.mean(opt_rev - revs, axis=1)\n",
        "# we plot the error as a function of the historical sample size\n",
        "plt.plot(ngrid, error, label='error')\n",
        "# should roughly behave as c/sqrt(n)\n",
        "plt.plot(ngrid, .25/np.sqrt(ngrid), label='.25/sqrt(n)')\n",
        "plt.xlabel('n_samples')\n",
        "plt.ylabel('error')\n",
        "plt.legend()\n",
        "plt.show()"
      ],
      "metadata": {
        "id": "4louvcU43aQD",
        "colab": {
          "base_uri": "https://localhost:8080/",
          "height": 450
        },
        "outputId": "6dcc460c-e25b-4cc7-adcb-7f75f2c6ddd9"
      },
      "execution_count": 80,
      "outputs": [
        {
          "output_type": "display_data",
          "data": {
            "text/plain": [
              "<Figure size 640x480 with 1 Axes>"
            ],
            "image/png": "[encoded data removed]"
          },
          "metadata": {}
        }
      ]
    },
    {
      "cell_type": "markdown",
      "source": [
        "**Expected Answer**\n",
        "\n",
        "![image.png](data:image/png;base64,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)"
      ],
      "metadata": {
        "id": "YzbIBZl8_0Sz"
      }
    },
    {
      "cell_type": "code",
      "source": [
        "import matplotlib.pyplot as plt\n",
        "# equivalently sqrt(m) * error, should be roughly converging to a constant\n",
        "plt.plot(ngrid, np.sqrt(ngrid) * error, label='error')\n",
        "plt.xlabel('n_samples')\n",
        "plt.ylabel('error')\n",
        "plt.legend()\n",
        "plt.show()"
      ],
      "metadata": {
        "id": "J7DMbEjw6K2N",
        "colab": {
          "base_uri": "https://localhost:8080/",
          "height": 450
        },
        "outputId": "2448ddb8-1e2f-4e5f-ba63-92bd9de95709"
      },
      "execution_count": 81,
      "outputs": [
        {
          "output_type": "display_data",
          "data": {
            "text/plain": [
              "<Figure size 640x480 with 1 Axes>"
            ],
            "image/png": "[encoded data removed]"
          },
          "metadata": {}
        }
      ]
    },
    {
      "cell_type": "markdown",
      "source": [
        "**Expected Answer**\n",
        "\n",
        "![image.png](data:image/png;base64,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)"
      ],
      "metadata": {
        "id": "R7DRSUKL__sV"
      }
    },
    {
      "cell_type": "markdown",
      "source": [
        "# Bonus Problem: Empirical Myerson Auction\n",
        "\n",
        "**This problem will not be graded, and wont contribute to your grade, but if you want to dive deeper into Mechanism Design from Samples it is a great exercise. Feel free to submit it with your homework**\n",
        "\n",
        "Implement the empirical Myerson auction described in Section 6.1 of this paper\n",
        "https://theory.stanford.edu/~tim/papers/emp.pdf\n",
        "\n",
        "This is an alternative to the ERM approach over discretize virtual value functions that is more computationally efficient.\n",
        "\n",
        "You can remove if you want the \"discarding\" of the top fraction of bids (i.e. step 2) from your implementation.\n"
      ],
      "metadata": {
        "id": "LQaaXmqsYKhb"
      }
    },
    {
      "cell_type": "code",
      "source": [
        "# Draw historical samples on which to train your empirical Myerson auction\n",
        "np.random.seed(123)\n",
        "v1, v2 = gen_data(1000)"
      ],
      "metadata": {
        "id": "EtIFIQBiGqXO"
      },
      "execution_count": null,
      "outputs": []
    },
    {
      "cell_type": "code",
      "source": [
        "import scipy.spatial\n",
        "\n",
        "def empirical_phi(v, rq):\n",
        "    {{FILL IN}}\n",
        "\n",
        "# This function should be taking the samples of a bidder\n",
        "# and calculate the empirical virtual value function.\n",
        "# In the end it should return a \"function\", which whenever given a new\n",
        "# value v, it should return phi(v), where phi(.) is the empirical\n",
        "# virtual function.\n",
        "def empirical_virtual_value(values):\n",
        "    {{FILL IN}}\n",
        "    return lambda v: empirical_phi(v, rq)"
      ],
      "metadata": {
        "id": "IlxGHEw1z3Cv"
      },
      "execution_count": null,
      "outputs": []
    },
    {
      "cell_type": "code",
      "source": [
        "phi1 = empirical_virtual_value(v1)\n",
        "phi2 = empirical_virtual_value(v2)"
      ],
      "metadata": {
        "id": "ONwctgSN0YLB"
      },
      "execution_count": null,
      "outputs": []
    },
    {
      "cell_type": "code",
      "source": [
        "import matplotlib.pyplot as plt\n",
        "vgrid = np.linspace(.1, A-.1, 100)\n",
        "plt.plot(vgrid, [phi1(v) for v in vgrid], label='est_phi')\n",
        "plt.plot(vgrid, 2*vgrid - A, label='true_phi')\n",
        "plt.legend()\n",
        "plt.show()"
      ],
      "metadata": {
        "id": "HDcylxb10d9r"
      },
      "execution_count": null,
      "outputs": []
    },
    {
      "cell_type": "markdown",
      "source": [
        "**Expected Answer**\n",
        "\n",
        "![image.png](data:image/png;base64,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)"
      ],
      "metadata": {
        "id": "1RTZBcXtANWS"
      }
    },
    {
      "cell_type": "code",
      "source": [
        "vgrid = np.linspace(0.1, B - .1, 100)\n",
        "plt.plot(vgrid, [phi2(v) for v in vgrid], label='est_phi')\n",
        "plt.plot(vgrid, 2*vgrid - B, label='true_phi')\n",
        "plt.legend()\n",
        "plt.show()"
      ],
      "metadata": {
        "id": "uazUBUuE0fun"
      },
      "execution_count": null,
      "outputs": []
    },
    {
      "cell_type": "markdown",
      "source": [
        "**Expected Answer**\n",
        "\n",
        "![image.png](data:image/png;base64,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)"
      ],
      "metadata": {
        "id": "IZyTwsgbAQ5L"
      }
    },
    {
      "cell_type": "code",
      "source": [
        "# We now calculate for each bidder the \"threshold function\", i.e.\n",
        "# for each value of opponent, what is the minimum value of the bidder to win\n",
        "v1grid = np.linspace(0.001, A-0.001, 1000)\n",
        "phi1v1grid = np.array([phi1(v1) for v1 in v1grid])\n",
        "def threshold1(v2):\n",
        "    phi2v2 = phi2(v2)\n",
        "    return v1grid[np.clip(np.searchsorted(phi1v1grid, phi2v2), 0, len(v1grid)-1)]\n",
        "\n",
        "v2grid = np.linspace(0.001, B-0.001, 1000)\n",
        "phi2v2grid = np.array([phi2(v2) for v2 in v2grid])\n",
        "def threshold2(v1):\n",
        "    phi1v1 = phi1(v1)\n",
        "    return v2grid[np.clip(np.searchsorted(phi2v2grid, phi1v1), 0, len(v2grid)-1)]"
      ],
      "metadata": {
        "id": "w_c-MWzL3lk7"
      },
      "execution_count": null,
      "outputs": []
    },
    {
      "cell_type": "code",
      "source": [
        "plt.plot(vgrid, [threshold1(v) for v in vgrid], label='thr1v2')\n",
        "plt.plot(vgrid, vgrid - (B-A)/2, label='true_thr1v2')\n",
        "plt.plot(vgrid, [threshold2(v) for v in vgrid], label='thr2v1')\n",
        "plt.plot(vgrid, vgrid + (B-A)/2, label='true_thr2v1')\n",
        "plt.legend()\n",
        "plt.show()"
      ],
      "metadata": {
        "id": "xlvMOU-uEC-q"
      },
      "execution_count": null,
      "outputs": []
    },
    {
      "cell_type": "markdown",
      "source": [
        "**Expected Answer**\n",
        "\n",
        "![image.png](data:image/png;base64,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)"
      ],
      "metadata": {
        "id": "vFwv-XKZAcjc"
      }
    },
    {
      "cell_type": "markdown",
      "source": [
        "**Alternate Expected Answer** If you used value as virtual value for samples above the maximum observed sample:\n",
        "\n",
        "![image.png](data:image/png;base64,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)"
      ],
      "metadata": {
        "id": "Czrahxljbf7u"
      }
    },
    {
      "cell_type": "code",
      "source": [
        "# We also calculate the empirical monopoly reserves\n",
        "v1grid = np.linspace(0.001, A, 1000)\n",
        "v2grid = np.linspace(0.001, B, 1000)\n",
        "eta1 = v1grid[np.searchsorted([phi1(v) for v in v1grid], 0)]\n",
        "eta2 = v2grid[np.searchsorted([phi2(v) for v in v2grid], 0)]\n",
        "eta1, eta2"
      ],
      "metadata": {
        "id": "bVQhOkrSE7SM"
      },
      "execution_count": null,
      "outputs": []
    },
    {
      "cell_type": "markdown",
      "source": [
        "**Expected Answer**\n",
        "\n",
        "```\n",
        "(0.517, 1.0835415415415415)\n",
        "```"
      ],
      "metadata": {
        "id": "JKUWJVOvAqq3"
      }
    },
    {
      "cell_type": "markdown",
      "source": [
        "### Evaluate revenue of Empirical Myerson Auction on next year's data"
      ],
      "metadata": {
        "id": "074b8JDv7OdE"
      }
    },
    {
      "cell_type": "code",
      "source": [
        "np.random.seed(1234)\n",
        "v1, v2 = gen_data(100000)\n",
        "phi1v1 = np.array([phi1(v) for v in v1])\n",
        "phi2v2 = np.array([phi2(v) for v in v2])\n",
        "thr2v1 = np.array([threshold2(v) for v in v1])\n",
        "thr1v2 = np.array([threshold1(v) for v in v2])"
      ],
      "metadata": {
        "id": "_3Iv00oL3gfy"
      },
      "execution_count": null,
      "outputs": []
    },
    {
      "cell_type": "code",
      "source": [
        "rev = 1.0 * ((phi1v1 < 0) & (phi2v2 >= 0)) * eta2\n",
        "rev += 1.0 * ((phi1v1 >= 0) & (phi2v2 < 0)) * eta1\n",
        "rev += 1.0 * ((phi1v1 >= 0) & (phi2v2 >= phi1v1)) * thr2v1\n",
        "rev += 1.0 * ((phi1v1 > phi2v2) & (phi2v2 >= 0)) * thr1v2"
      ],
      "metadata": {
        "id": "XP4LSFCfI1kr"
      },
      "execution_count": null,
      "outputs": []
    },
    {
      "cell_type": "code",
      "source": [
        "np.mean(rev)"
      ],
      "metadata": {
        "id": "vLcc96zKI7he"
      },
      "execution_count": null,
      "outputs": []
    },
    {
      "cell_type": "markdown",
      "source": [
        "**Expected Answer**\n",
        "\n",
        "```\n",
        "0.641780362112112\n",
        "```"
      ],
      "metadata": {
        "id": "NkNYles2BCI8"
      }
    },
    {
      "cell_type": "code",
      "source": [],
      "metadata": {
        "id": "c7tPRXee1TtJ"
      },
      "execution_count": null,
      "outputs": []
    }
  ]
}